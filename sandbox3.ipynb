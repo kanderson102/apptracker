{
 "cells": [
  {
   "cell_type": "code",
   "execution_count": 1,
   "metadata": {},
   "outputs": [],
   "source": [
    "import altair as alt\n",
    "import pandas as pd\n",
    "\n",
    "\n",
    "data_path = 'data/AUM_V4_Activity_2018-06-21_17-16-27.csv'"
   ]
  },
  {
   "cell_type": "code",
   "execution_count": 2,
   "metadata": {},
   "outputs": [
    {
     "data": {
      "text/html": [
       "<div>\n",
       "<style scoped>\n",
       "    .dataframe tbody tr th:only-of-type {\n",
       "        vertical-align: middle;\n",
       "    }\n",
       "\n",
       "    .dataframe tbody tr th {\n",
       "        vertical-align: top;\n",
       "    }\n",
       "\n",
       "    .dataframe thead th {\n",
       "        text-align: right;\n",
       "    }\n",
       "</style>\n",
       "<table border=\"1\" class=\"dataframe\">\n",
       "  <thead>\n",
       "    <tr style=\"text-align: right;\">\n",
       "      <th></th>\n",
       "      <th>App name</th>\n",
       "      <th>Duration</th>\n",
       "    </tr>\n",
       "    <tr>\n",
       "      <th>Date_Time</th>\n",
       "      <th></th>\n",
       "      <th></th>\n",
       "    </tr>\n",
       "  </thead>\n",
       "  <tbody>\n",
       "    <tr>\n",
       "      <th>6/21/18 5:15:40 PM</th>\n",
       "      <td>App Usage</td>\n",
       "      <td>0:00:00</td>\n",
       "    </tr>\n",
       "    <tr>\n",
       "      <th>6/21/18 5:15:38 PM</th>\n",
       "      <td>System UI</td>\n",
       "      <td>0:00:02</td>\n",
       "    </tr>\n",
       "    <tr>\n",
       "      <th>6/21/18 5:15:36 PM</th>\n",
       "      <td>Files</td>\n",
       "      <td>0:00:02</td>\n",
       "    </tr>\n",
       "    <tr>\n",
       "      <th>6/21/18 5:15:36 PM</th>\n",
       "      <td>Screen on (unlocked)</td>\n",
       "      <td>0:00:00</td>\n",
       "    </tr>\n",
       "    <tr>\n",
       "      <th>6/21/18 5:15:28 PM</th>\n",
       "      <td>Screen on (locked)</td>\n",
       "      <td>0:00:08</td>\n",
       "    </tr>\n",
       "    <tr>\n",
       "      <th>6/21/18 5:14:30 PM</th>\n",
       "      <td>Screen off (not locked)</td>\n",
       "      <td>0:00:58</td>\n",
       "    </tr>\n",
       "    <tr>\n",
       "      <th>6/21/18 5:13:14 PM</th>\n",
       "      <td>Files</td>\n",
       "      <td>0:01:16</td>\n",
       "    </tr>\n",
       "    <tr>\n",
       "      <th>6/21/18 5:12:54 PM</th>\n",
       "      <td>Gmail</td>\n",
       "      <td>0:00:20</td>\n",
       "    </tr>\n",
       "    <tr>\n",
       "      <th>6/21/18 5:12:50 PM</th>\n",
       "      <td>Huawei Share</td>\n",
       "      <td>0:00:04</td>\n",
       "    </tr>\n",
       "    <tr>\n",
       "      <th>6/21/18 5:12:18 PM</th>\n",
       "      <td>Files</td>\n",
       "      <td>0:00:32</td>\n",
       "    </tr>\n",
       "  </tbody>\n",
       "</table>\n",
       "</div>"
      ],
      "text/plain": [
       "                                   App name Duration\n",
       "Date_Time                                           \n",
       "6/21/18 5:15:40 PM                App Usage  0:00:00\n",
       "6/21/18 5:15:38 PM                System UI  0:00:02\n",
       "6/21/18 5:15:36 PM                    Files  0:00:02\n",
       "6/21/18 5:15:36 PM     Screen on (unlocked)  0:00:00\n",
       "6/21/18 5:15:28 PM       Screen on (locked)  0:00:08\n",
       "6/21/18 5:14:30 PM  Screen off (not locked)  0:00:58\n",
       "6/21/18 5:13:14 PM                    Files  0:01:16\n",
       "6/21/18 5:12:54 PM                    Gmail  0:00:20\n",
       "6/21/18 5:12:50 PM             Huawei Share  0:00:04\n",
       "6/21/18 5:12:18 PM                    Files  0:00:32"
      ]
     },
     "execution_count": 2,
     "metadata": {},
     "output_type": "execute_result"
    }
   ],
   "source": [
    "df = pd.read_csv(data_path, parse_dates=[['Date', 'Time']])\n",
    "df = df[:-3]\n",
    "df = df.set_index('Date_Time')\n",
    "# or \n",
    "# df.set_index('Date_Time', inplace=True)\n",
    "# or\n",
    "# index = pd.DatetimeIndex(df.Date_Time)\n",
    "# df = pd.Series(df['App name', 'Duration'], index=index)\n",
    "df.head(10)"
   ]
  },
  {
   "cell_type": "code",
   "execution_count": 3,
   "metadata": {},
   "outputs": [
    {
     "data": {
      "text/plain": [
       "pandas.core.frame.DataFrame"
      ]
     },
     "execution_count": 3,
     "metadata": {},
     "output_type": "execute_result"
    }
   ],
   "source": [
    "type(df)"
   ]
  },
  {
   "cell_type": "markdown",
   "metadata": {},
   "source": [
    "## Update Index. Convert Duration to TimeDelta"
   ]
  },
  {
   "cell_type": "code",
   "execution_count": 3,
   "metadata": {},
   "outputs": [
    {
     "data": {
      "text/html": [
       "<div>\n",
       "<style scoped>\n",
       "    .dataframe tbody tr th:only-of-type {\n",
       "        vertical-align: middle;\n",
       "    }\n",
       "\n",
       "    .dataframe tbody tr th {\n",
       "        vertical-align: top;\n",
       "    }\n",
       "\n",
       "    .dataframe thead th {\n",
       "        text-align: right;\n",
       "    }\n",
       "</style>\n",
       "<table border=\"1\" class=\"dataframe\">\n",
       "  <thead>\n",
       "    <tr style=\"text-align: right;\">\n",
       "      <th></th>\n",
       "      <th>App name</th>\n",
       "      <th>Duration</th>\n",
       "    </tr>\n",
       "    <tr>\n",
       "      <th>Date_Time</th>\n",
       "      <th></th>\n",
       "      <th></th>\n",
       "    </tr>\n",
       "  </thead>\n",
       "  <tbody>\n",
       "    <tr>\n",
       "      <th>2018-06-21 17:15:40</th>\n",
       "      <td>App Usage</td>\n",
       "      <td>00:00:00</td>\n",
       "    </tr>\n",
       "    <tr>\n",
       "      <th>2018-06-21 17:15:38</th>\n",
       "      <td>System UI</td>\n",
       "      <td>00:00:02</td>\n",
       "    </tr>\n",
       "    <tr>\n",
       "      <th>2018-06-21 17:15:36</th>\n",
       "      <td>Files</td>\n",
       "      <td>00:00:02</td>\n",
       "    </tr>\n",
       "    <tr>\n",
       "      <th>2018-06-21 17:15:36</th>\n",
       "      <td>Screen on (unlocked)</td>\n",
       "      <td>00:00:00</td>\n",
       "    </tr>\n",
       "    <tr>\n",
       "      <th>2018-06-21 17:15:28</th>\n",
       "      <td>Screen on (locked)</td>\n",
       "      <td>00:00:08</td>\n",
       "    </tr>\n",
       "  </tbody>\n",
       "</table>\n",
       "</div>"
      ],
      "text/plain": [
       "                                 App name Duration\n",
       "Date_Time                                         \n",
       "2018-06-21 17:15:40             App Usage 00:00:00\n",
       "2018-06-21 17:15:38             System UI 00:00:02\n",
       "2018-06-21 17:15:36                 Files 00:00:02\n",
       "2018-06-21 17:15:36  Screen on (unlocked) 00:00:00\n",
       "2018-06-21 17:15:28    Screen on (locked) 00:00:08"
      ]
     },
     "execution_count": 3,
     "metadata": {},
     "output_type": "execute_result"
    }
   ],
   "source": [
    "df['Duration'] = pd.to_timedelta(df.Duration)\n",
    "df.index = pd.to_datetime(df.index)\n",
    "df.head()"
   ]
  },
  {
   "cell_type": "code",
   "execution_count": 4,
   "metadata": {},
   "outputs": [
    {
     "data": {
      "text/html": [
       "<div>\n",
       "<style scoped>\n",
       "    .dataframe tbody tr th:only-of-type {\n",
       "        vertical-align: middle;\n",
       "    }\n",
       "\n",
       "    .dataframe tbody tr th {\n",
       "        vertical-align: top;\n",
       "    }\n",
       "\n",
       "    .dataframe thead th {\n",
       "        text-align: right;\n",
       "    }\n",
       "</style>\n",
       "<table border=\"1\" class=\"dataframe\">\n",
       "  <thead>\n",
       "    <tr style=\"text-align: right;\">\n",
       "      <th></th>\n",
       "      <th>App name</th>\n",
       "      <th>Duration</th>\n",
       "    </tr>\n",
       "    <tr>\n",
       "      <th>Date_Time</th>\n",
       "      <th></th>\n",
       "      <th></th>\n",
       "    </tr>\n",
       "  </thead>\n",
       "  <tbody>\n",
       "    <tr>\n",
       "      <th>2018-06-21 16:46:16</th>\n",
       "      <td>Tinder</td>\n",
       "      <td>00:00:11</td>\n",
       "    </tr>\n",
       "    <tr>\n",
       "      <th>2018-06-21 16:45:43</th>\n",
       "      <td>Tinder</td>\n",
       "      <td>00:00:27</td>\n",
       "    </tr>\n",
       "    <tr>\n",
       "      <th>2018-06-21 16:39:43</th>\n",
       "      <td>Tinder</td>\n",
       "      <td>00:05:54</td>\n",
       "    </tr>\n",
       "    <tr>\n",
       "      <th>2018-06-21 13:55:09</th>\n",
       "      <td>Tinder</td>\n",
       "      <td>00:00:00</td>\n",
       "    </tr>\n",
       "    <tr>\n",
       "      <th>2018-06-21 13:51:07</th>\n",
       "      <td>Tinder</td>\n",
       "      <td>00:03:24</td>\n",
       "    </tr>\n",
       "  </tbody>\n",
       "</table>\n",
       "</div>"
      ],
      "text/plain": [
       "                    App name Duration\n",
       "Date_Time                            \n",
       "2018-06-21 16:46:16   Tinder 00:00:11\n",
       "2018-06-21 16:45:43   Tinder 00:00:27\n",
       "2018-06-21 16:39:43   Tinder 00:05:54\n",
       "2018-06-21 13:55:09   Tinder 00:00:00\n",
       "2018-06-21 13:51:07   Tinder 00:03:24"
      ]
     },
     "execution_count": 4,
     "metadata": {},
     "output_type": "execute_result"
    }
   ],
   "source": [
    "# tinder = df.loc[df['App name'] == \"Tinder\"]\n",
    "tinder = df[df['App name'] == 'Tinder']\n",
    "tinder.head()"
   ]
  },
  {
   "cell_type": "code",
   "execution_count": 6,
   "metadata": {},
   "outputs": [
    {
     "data": {
      "text/html": [
       "<div>\n",
       "<style scoped>\n",
       "    .dataframe tbody tr th:only-of-type {\n",
       "        vertical-align: middle;\n",
       "    }\n",
       "\n",
       "    .dataframe tbody tr th {\n",
       "        vertical-align: top;\n",
       "    }\n",
       "\n",
       "    .dataframe thead th {\n",
       "        text-align: right;\n",
       "    }\n",
       "</style>\n",
       "<table border=\"1\" class=\"dataframe\">\n",
       "  <thead>\n",
       "    <tr style=\"text-align: right;\">\n",
       "      <th></th>\n",
       "      <th>App name</th>\n",
       "      <th>Duration</th>\n",
       "    </tr>\n",
       "    <tr>\n",
       "      <th>Date_Time</th>\n",
       "      <th></th>\n",
       "      <th></th>\n",
       "    </tr>\n",
       "  </thead>\n",
       "  <tbody>\n",
       "    <tr>\n",
       "      <th>2018-06-21 17:15:40</th>\n",
       "      <td>App Usage</td>\n",
       "      <td>00:00:00</td>\n",
       "    </tr>\n",
       "    <tr>\n",
       "      <th>2018-06-21 17:15:38</th>\n",
       "      <td>System UI</td>\n",
       "      <td>00:00:02</td>\n",
       "    </tr>\n",
       "    <tr>\n",
       "      <th>2018-06-21 17:15:36</th>\n",
       "      <td>Files</td>\n",
       "      <td>00:00:02</td>\n",
       "    </tr>\n",
       "    <tr>\n",
       "      <th>2018-06-21 17:15:36</th>\n",
       "      <td>Screen on (unlocked)</td>\n",
       "      <td>00:00:00</td>\n",
       "    </tr>\n",
       "    <tr>\n",
       "      <th>2018-06-21 17:15:28</th>\n",
       "      <td>Screen on (locked)</td>\n",
       "      <td>00:00:08</td>\n",
       "    </tr>\n",
       "    <tr>\n",
       "      <th>2018-06-21 17:14:30</th>\n",
       "      <td>Screen off (not locked)</td>\n",
       "      <td>00:00:58</td>\n",
       "    </tr>\n",
       "    <tr>\n",
       "      <th>2018-06-21 17:13:14</th>\n",
       "      <td>Files</td>\n",
       "      <td>00:01:16</td>\n",
       "    </tr>\n",
       "    <tr>\n",
       "      <th>2018-06-21 17:12:54</th>\n",
       "      <td>Gmail</td>\n",
       "      <td>00:00:20</td>\n",
       "    </tr>\n",
       "    <tr>\n",
       "      <th>2018-06-21 17:12:50</th>\n",
       "      <td>Huawei Share</td>\n",
       "      <td>00:00:04</td>\n",
       "    </tr>\n",
       "    <tr>\n",
       "      <th>2018-06-21 17:12:18</th>\n",
       "      <td>Files</td>\n",
       "      <td>00:00:32</td>\n",
       "    </tr>\n",
       "    <tr>\n",
       "      <th>2018-06-21 17:11:00</th>\n",
       "      <td>Settings</td>\n",
       "      <td>00:01:18</td>\n",
       "    </tr>\n",
       "    <tr>\n",
       "      <th>2018-06-21 17:10:49</th>\n",
       "      <td>Files</td>\n",
       "      <td>00:00:11</td>\n",
       "    </tr>\n",
       "    <tr>\n",
       "      <th>2018-06-21 17:10:48</th>\n",
       "      <td>Huawei Home</td>\n",
       "      <td>00:00:01</td>\n",
       "    </tr>\n",
       "    <tr>\n",
       "      <th>2018-06-21 17:10:30</th>\n",
       "      <td>Documents</td>\n",
       "      <td>00:00:18</td>\n",
       "    </tr>\n",
       "    <tr>\n",
       "      <th>2018-06-21 17:10:27</th>\n",
       "      <td>Huawei Home</td>\n",
       "      <td>00:00:03</td>\n",
       "    </tr>\n",
       "    <tr>\n",
       "      <th>2018-06-21 17:09:51</th>\n",
       "      <td>Settings</td>\n",
       "      <td>00:00:37</td>\n",
       "    </tr>\n",
       "    <tr>\n",
       "      <th>2018-06-21 17:09:17</th>\n",
       "      <td>Huawei Home</td>\n",
       "      <td>00:00:34</td>\n",
       "    </tr>\n",
       "    <tr>\n",
       "      <th>2018-06-21 17:06:31</th>\n",
       "      <td>App Usage</td>\n",
       "      <td>00:02:46</td>\n",
       "    </tr>\n",
       "    <tr>\n",
       "      <th>2018-06-21 17:06:31</th>\n",
       "      <td>Huawei Home</td>\n",
       "      <td>00:00:01</td>\n",
       "    </tr>\n",
       "    <tr>\n",
       "      <th>2018-06-21 17:06:29</th>\n",
       "      <td>System UI</td>\n",
       "      <td>00:00:02</td>\n",
       "    </tr>\n",
       "    <tr>\n",
       "      <th>2018-06-21 17:06:16</th>\n",
       "      <td>Settings</td>\n",
       "      <td>00:00:13</td>\n",
       "    </tr>\n",
       "    <tr>\n",
       "      <th>2018-06-21 17:06:16</th>\n",
       "      <td>Screen on (unlocked)</td>\n",
       "      <td>00:00:00</td>\n",
       "    </tr>\n",
       "    <tr>\n",
       "      <th>2018-06-21 17:06:15</th>\n",
       "      <td>Screen on (locked)</td>\n",
       "      <td>00:00:01</td>\n",
       "    </tr>\n",
       "    <tr>\n",
       "      <th>2018-06-21 17:05:06</th>\n",
       "      <td>Screen off (not locked)</td>\n",
       "      <td>00:01:09</td>\n",
       "    </tr>\n",
       "    <tr>\n",
       "      <th>2018-06-21 17:03:34</th>\n",
       "      <td>Settings</td>\n",
       "      <td>00:01:32</td>\n",
       "    </tr>\n",
       "    <tr>\n",
       "      <th>2018-06-21 17:03:13</th>\n",
       "      <td>Huawei Home</td>\n",
       "      <td>00:00:21</td>\n",
       "    </tr>\n",
       "    <tr>\n",
       "      <th>2018-06-21 17:03:11</th>\n",
       "      <td>Screen on (unlocked)</td>\n",
       "      <td>00:00:02</td>\n",
       "    </tr>\n",
       "    <tr>\n",
       "      <th>2018-06-21 17:03:10</th>\n",
       "      <td>Screen on (locked)</td>\n",
       "      <td>00:00:01</td>\n",
       "    </tr>\n",
       "    <tr>\n",
       "      <th>2018-06-21 17:00:47</th>\n",
       "      <td>Screen off (locked)</td>\n",
       "      <td>00:02:22</td>\n",
       "    </tr>\n",
       "    <tr>\n",
       "      <th>2018-06-21 17:00:44</th>\n",
       "      <td>Settings</td>\n",
       "      <td>00:00:01</td>\n",
       "    </tr>\n",
       "    <tr>\n",
       "      <th>...</th>\n",
       "      <td>...</td>\n",
       "      <td>...</td>\n",
       "    </tr>\n",
       "    <tr>\n",
       "      <th>2018-06-18 11:58:49</th>\n",
       "      <td>Weather</td>\n",
       "      <td>00:01:32</td>\n",
       "    </tr>\n",
       "    <tr>\n",
       "      <th>2018-06-18 10:41:33</th>\n",
       "      <td>FSGO</td>\n",
       "      <td>00:07:44</td>\n",
       "    </tr>\n",
       "    <tr>\n",
       "      <th>2018-06-18 10:06:19</th>\n",
       "      <td>FSGO</td>\n",
       "      <td>00:35:12</td>\n",
       "    </tr>\n",
       "    <tr>\n",
       "      <th>2018-06-18 09:58:09</th>\n",
       "      <td>FSGO</td>\n",
       "      <td>00:08:07</td>\n",
       "    </tr>\n",
       "    <tr>\n",
       "      <th>2018-06-18 09:27:30</th>\n",
       "      <td>Calendar</td>\n",
       "      <td>00:00:25</td>\n",
       "    </tr>\n",
       "    <tr>\n",
       "      <th>2018-06-18 09:24:15</th>\n",
       "      <td>Calendar</td>\n",
       "      <td>00:00:34</td>\n",
       "    </tr>\n",
       "    <tr>\n",
       "      <th>2018-06-18 09:23:48</th>\n",
       "      <td>Calendar</td>\n",
       "      <td>00:00:09</td>\n",
       "    </tr>\n",
       "    <tr>\n",
       "      <th>2018-06-18 00:56:49</th>\n",
       "      <td>Lyft</td>\n",
       "      <td>00:00:20</td>\n",
       "    </tr>\n",
       "    <tr>\n",
       "      <th>2018-06-18 00:56:46</th>\n",
       "      <td>Lyft</td>\n",
       "      <td>00:00:00</td>\n",
       "    </tr>\n",
       "    <tr>\n",
       "      <th>2018-06-18 00:51:56</th>\n",
       "      <td>Lyft</td>\n",
       "      <td>00:00:35</td>\n",
       "    </tr>\n",
       "    <tr>\n",
       "      <th>2018-06-18 00:41:45</th>\n",
       "      <td>Lyft</td>\n",
       "      <td>00:00:05</td>\n",
       "    </tr>\n",
       "    <tr>\n",
       "      <th>2018-06-18 00:38:15</th>\n",
       "      <td>Lyft</td>\n",
       "      <td>00:00:21</td>\n",
       "    </tr>\n",
       "    <tr>\n",
       "      <th>2018-06-17 14:50:35</th>\n",
       "      <td>Camera</td>\n",
       "      <td>00:00:03</td>\n",
       "    </tr>\n",
       "    <tr>\n",
       "      <th>2018-06-17 13:13:56</th>\n",
       "      <td>Weather</td>\n",
       "      <td>00:01:11</td>\n",
       "    </tr>\n",
       "    <tr>\n",
       "      <th>2018-06-17 10:59:55</th>\n",
       "      <td>Messaging</td>\n",
       "      <td>00:00:02</td>\n",
       "    </tr>\n",
       "    <tr>\n",
       "      <th>2018-06-17 10:22:18</th>\n",
       "      <td>FSGO</td>\n",
       "      <td>00:00:00</td>\n",
       "    </tr>\n",
       "    <tr>\n",
       "      <th>2018-06-16 21:19:14</th>\n",
       "      <td>Videos</td>\n",
       "      <td>00:00:26</td>\n",
       "    </tr>\n",
       "    <tr>\n",
       "      <th>2018-06-16 19:02:04</th>\n",
       "      <td>Photos</td>\n",
       "      <td>00:00:48</td>\n",
       "    </tr>\n",
       "    <tr>\n",
       "      <th>2018-06-16 16:25:55</th>\n",
       "      <td>Slack</td>\n",
       "      <td>00:00:03</td>\n",
       "    </tr>\n",
       "    <tr>\n",
       "      <th>2018-06-16 16:25:54</th>\n",
       "      <td>Slack</td>\n",
       "      <td>00:00:01</td>\n",
       "    </tr>\n",
       "    <tr>\n",
       "      <th>2018-06-15 23:56:20</th>\n",
       "      <td>Weather</td>\n",
       "      <td>00:01:16</td>\n",
       "    </tr>\n",
       "    <tr>\n",
       "      <th>2018-06-15 19:50:06</th>\n",
       "      <td>Videos</td>\n",
       "      <td>00:00:09</td>\n",
       "    </tr>\n",
       "    <tr>\n",
       "      <th>2018-06-15 13:10:20</th>\n",
       "      <td>Call Management</td>\n",
       "      <td>00:00:01</td>\n",
       "    </tr>\n",
       "    <tr>\n",
       "      <th>2018-06-15 09:24:25</th>\n",
       "      <td>Weather</td>\n",
       "      <td>00:01:39</td>\n",
       "    </tr>\n",
       "    <tr>\n",
       "      <th>2018-06-14 23:09:01</th>\n",
       "      <td>YouTube</td>\n",
       "      <td>00:00:16</td>\n",
       "    </tr>\n",
       "    <tr>\n",
       "      <th>2018-06-14 23:07:49</th>\n",
       "      <td>YouTube</td>\n",
       "      <td>00:00:09</td>\n",
       "    </tr>\n",
       "    <tr>\n",
       "      <th>2018-06-14 23:07:25</th>\n",
       "      <td>Google Play services</td>\n",
       "      <td>00:00:25</td>\n",
       "    </tr>\n",
       "    <tr>\n",
       "      <th>2018-06-14 23:07:09</th>\n",
       "      <td>YouTube</td>\n",
       "      <td>00:00:15</td>\n",
       "    </tr>\n",
       "    <tr>\n",
       "      <th>2018-06-14 23:03:57</th>\n",
       "      <td>YouTube</td>\n",
       "      <td>00:00:23</td>\n",
       "    </tr>\n",
       "    <tr>\n",
       "      <th>2018-06-14 22:59:38</th>\n",
       "      <td>YouTube</td>\n",
       "      <td>00:03:49</td>\n",
       "    </tr>\n",
       "  </tbody>\n",
       "</table>\n",
       "<p>244 rows × 2 columns</p>\n",
       "</div>"
      ],
      "text/plain": [
       "                                    App name Duration\n",
       "Date_Time                                            \n",
       "2018-06-21 17:15:40                App Usage 00:00:00\n",
       "2018-06-21 17:15:38                System UI 00:00:02\n",
       "2018-06-21 17:15:36                    Files 00:00:02\n",
       "2018-06-21 17:15:36     Screen on (unlocked) 00:00:00\n",
       "2018-06-21 17:15:28       Screen on (locked) 00:00:08\n",
       "2018-06-21 17:14:30  Screen off (not locked) 00:00:58\n",
       "2018-06-21 17:13:14                    Files 00:01:16\n",
       "2018-06-21 17:12:54                    Gmail 00:00:20\n",
       "2018-06-21 17:12:50             Huawei Share 00:00:04\n",
       "2018-06-21 17:12:18                    Files 00:00:32\n",
       "2018-06-21 17:11:00                 Settings 00:01:18\n",
       "2018-06-21 17:10:49                    Files 00:00:11\n",
       "2018-06-21 17:10:48              Huawei Home 00:00:01\n",
       "2018-06-21 17:10:30                Documents 00:00:18\n",
       "2018-06-21 17:10:27              Huawei Home 00:00:03\n",
       "2018-06-21 17:09:51                 Settings 00:00:37\n",
       "2018-06-21 17:09:17              Huawei Home 00:00:34\n",
       "2018-06-21 17:06:31                App Usage 00:02:46\n",
       "2018-06-21 17:06:31              Huawei Home 00:00:01\n",
       "2018-06-21 17:06:29                System UI 00:00:02\n",
       "2018-06-21 17:06:16                 Settings 00:00:13\n",
       "2018-06-21 17:06:16     Screen on (unlocked) 00:00:00\n",
       "2018-06-21 17:06:15       Screen on (locked) 00:00:01\n",
       "2018-06-21 17:05:06  Screen off (not locked) 00:01:09\n",
       "2018-06-21 17:03:34                 Settings 00:01:32\n",
       "2018-06-21 17:03:13              Huawei Home 00:00:21\n",
       "2018-06-21 17:03:11     Screen on (unlocked) 00:00:02\n",
       "2018-06-21 17:03:10       Screen on (locked) 00:00:01\n",
       "2018-06-21 17:00:47      Screen off (locked) 00:02:22\n",
       "2018-06-21 17:00:44                 Settings 00:00:01\n",
       "...                                      ...      ...\n",
       "2018-06-18 11:58:49                  Weather 00:01:32\n",
       "2018-06-18 10:41:33                     FSGO 00:07:44\n",
       "2018-06-18 10:06:19                     FSGO 00:35:12\n",
       "2018-06-18 09:58:09                     FSGO 00:08:07\n",
       "2018-06-18 09:27:30                 Calendar 00:00:25\n",
       "2018-06-18 09:24:15                 Calendar 00:00:34\n",
       "2018-06-18 09:23:48                 Calendar 00:00:09\n",
       "2018-06-18 00:56:49                     Lyft 00:00:20\n",
       "2018-06-18 00:56:46                     Lyft 00:00:00\n",
       "2018-06-18 00:51:56                     Lyft 00:00:35\n",
       "2018-06-18 00:41:45                     Lyft 00:00:05\n",
       "2018-06-18 00:38:15                     Lyft 00:00:21\n",
       "2018-06-17 14:50:35                   Camera 00:00:03\n",
       "2018-06-17 13:13:56                  Weather 00:01:11\n",
       "2018-06-17 10:59:55                Messaging 00:00:02\n",
       "2018-06-17 10:22:18                     FSGO 00:00:00\n",
       "2018-06-16 21:19:14                   Videos 00:00:26\n",
       "2018-06-16 19:02:04                   Photos 00:00:48\n",
       "2018-06-16 16:25:55                    Slack 00:00:03\n",
       "2018-06-16 16:25:54                    Slack 00:00:01\n",
       "2018-06-15 23:56:20                  Weather 00:01:16\n",
       "2018-06-15 19:50:06                   Videos 00:00:09\n",
       "2018-06-15 13:10:20          Call Management 00:00:01\n",
       "2018-06-15 09:24:25                  Weather 00:01:39\n",
       "2018-06-14 23:09:01                  YouTube 00:00:16\n",
       "2018-06-14 23:07:49                  YouTube 00:00:09\n",
       "2018-06-14 23:07:25     Google Play services 00:00:25\n",
       "2018-06-14 23:07:09                  YouTube 00:00:15\n",
       "2018-06-14 23:03:57                  YouTube 00:00:23\n",
       "2018-06-14 22:59:38                  YouTube 00:03:49\n",
       "\n",
       "[244 rows x 2 columns]"
      ]
     },
     "execution_count": 6,
     "metadata": {},
     "output_type": "execute_result"
    }
   ],
   "source": [
    "grouped = df.groupby('App name')\n",
    "grouped.head()"
   ]
  },
  {
   "cell_type": "code",
   "execution_count": 7,
   "metadata": {},
   "outputs": [],
   "source": [
    "t = grouped.get_group('Tinder')\n",
    "t.index = t.index.to_series().dt.to_period('H')"
   ]
  },
  {
   "cell_type": "code",
   "execution_count": 8,
   "metadata": {},
   "outputs": [
    {
     "data": {
      "text/html": [
       "<div>\n",
       "<style scoped>\n",
       "    .dataframe tbody tr th:only-of-type {\n",
       "        vertical-align: middle;\n",
       "    }\n",
       "\n",
       "    .dataframe tbody tr th {\n",
       "        vertical-align: top;\n",
       "    }\n",
       "\n",
       "    .dataframe thead th {\n",
       "        text-align: right;\n",
       "    }\n",
       "</style>\n",
       "<table border=\"1\" class=\"dataframe\">\n",
       "  <thead>\n",
       "    <tr style=\"text-align: right;\">\n",
       "      <th></th>\n",
       "      <th>App name</th>\n",
       "      <th>Duration</th>\n",
       "    </tr>\n",
       "    <tr>\n",
       "      <th>Date_Time</th>\n",
       "      <th></th>\n",
       "      <th></th>\n",
       "    </tr>\n",
       "  </thead>\n",
       "  <tbody>\n",
       "    <tr>\n",
       "      <th>2018-06-14 20:00</th>\n",
       "      <td>TinderTinder</td>\n",
       "      <td>00:07:33</td>\n",
       "    </tr>\n",
       "    <tr>\n",
       "      <th>2018-06-14 22:00</th>\n",
       "      <td>TinderTinder</td>\n",
       "      <td>00:00:54</td>\n",
       "    </tr>\n",
       "    <tr>\n",
       "      <th>2018-06-15 00:00</th>\n",
       "      <td>TinderTinderTinder</td>\n",
       "      <td>00:02:59</td>\n",
       "    </tr>\n",
       "    <tr>\n",
       "      <th>2018-06-15 01:00</th>\n",
       "      <td>TinderTinderTinderTinderTinderTinderTinderTind...</td>\n",
       "      <td>00:16:59</td>\n",
       "    </tr>\n",
       "    <tr>\n",
       "      <th>2018-06-15 06:00</th>\n",
       "      <td>Tinder</td>\n",
       "      <td>00:00:01</td>\n",
       "    </tr>\n",
       "  </tbody>\n",
       "</table>\n",
       "</div>"
      ],
      "text/plain": [
       "                                                           App name Duration\n",
       "Date_Time                                                                   \n",
       "2018-06-14 20:00                                       TinderTinder 00:07:33\n",
       "2018-06-14 22:00                                       TinderTinder 00:00:54\n",
       "2018-06-15 00:00                                 TinderTinderTinder 00:02:59\n",
       "2018-06-15 01:00  TinderTinderTinderTinderTinderTinderTinderTind... 00:16:59\n",
       "2018-06-15 06:00                                             Tinder 00:00:01"
      ]
     },
     "execution_count": 8,
     "metadata": {},
     "output_type": "execute_result"
    }
   ],
   "source": [
    "t = t.groupby(t.index).sum()\n",
    "t.head()"
   ]
  },
  {
   "cell_type": "code",
   "execution_count": 9,
   "metadata": {},
   "outputs": [
    {
     "data": {
      "text/html": [
       "<div>\n",
       "<style scoped>\n",
       "    .dataframe tbody tr th:only-of-type {\n",
       "        vertical-align: middle;\n",
       "    }\n",
       "\n",
       "    .dataframe tbody tr th {\n",
       "        vertical-align: top;\n",
       "    }\n",
       "\n",
       "    .dataframe thead th {\n",
       "        text-align: right;\n",
       "    }\n",
       "</style>\n",
       "<table border=\"1\" class=\"dataframe\">\n",
       "  <thead>\n",
       "    <tr style=\"text-align: right;\">\n",
       "      <th></th>\n",
       "      <th>App name</th>\n",
       "      <th>Duration</th>\n",
       "    </tr>\n",
       "    <tr>\n",
       "      <th>Date_Time</th>\n",
       "      <th></th>\n",
       "      <th></th>\n",
       "    </tr>\n",
       "  </thead>\n",
       "  <tbody>\n",
       "    <tr>\n",
       "      <th>2018-06-14 20:00</th>\n",
       "      <td>TinderTinder</td>\n",
       "      <td>2018-01-01 00:07:33</td>\n",
       "    </tr>\n",
       "    <tr>\n",
       "      <th>2018-06-14 22:00</th>\n",
       "      <td>TinderTinder</td>\n",
       "      <td>2018-01-01 00:00:54</td>\n",
       "    </tr>\n",
       "    <tr>\n",
       "      <th>2018-06-15 00:00</th>\n",
       "      <td>TinderTinderTinder</td>\n",
       "      <td>2018-01-01 00:02:59</td>\n",
       "    </tr>\n",
       "    <tr>\n",
       "      <th>2018-06-15 01:00</th>\n",
       "      <td>TinderTinderTinderTinderTinderTinderTinderTind...</td>\n",
       "      <td>2018-01-01 00:16:59</td>\n",
       "    </tr>\n",
       "    <tr>\n",
       "      <th>2018-06-15 06:00</th>\n",
       "      <td>Tinder</td>\n",
       "      <td>2018-01-01 00:00:01</td>\n",
       "    </tr>\n",
       "    <tr>\n",
       "      <th>2018-06-15 09:00</th>\n",
       "      <td>Tinder</td>\n",
       "      <td>2018-01-01 00:00:23</td>\n",
       "    </tr>\n",
       "    <tr>\n",
       "      <th>2018-06-15 12:00</th>\n",
       "      <td>TinderTinderTinder</td>\n",
       "      <td>2018-01-01 00:03:02</td>\n",
       "    </tr>\n",
       "    <tr>\n",
       "      <th>2018-06-15 13:00</th>\n",
       "      <td>TinderTinderTinder</td>\n",
       "      <td>2018-01-01 00:02:19</td>\n",
       "    </tr>\n",
       "    <tr>\n",
       "      <th>2018-06-15 14:00</th>\n",
       "      <td>Tinder</td>\n",
       "      <td>2018-01-01 00:00:12</td>\n",
       "    </tr>\n",
       "    <tr>\n",
       "      <th>2018-06-15 20:00</th>\n",
       "      <td>TinderTinderTinder</td>\n",
       "      <td>2018-01-01 00:02:54</td>\n",
       "    </tr>\n",
       "    <tr>\n",
       "      <th>2018-06-16 00:00</th>\n",
       "      <td>TinderTinderTinderTinder</td>\n",
       "      <td>2018-01-01 00:05:50</td>\n",
       "    </tr>\n",
       "    <tr>\n",
       "      <th>2018-06-16 01:00</th>\n",
       "      <td>TinderTinder</td>\n",
       "      <td>2018-01-01 00:01:29</td>\n",
       "    </tr>\n",
       "    <tr>\n",
       "      <th>2018-06-16 13:00</th>\n",
       "      <td>Tinder</td>\n",
       "      <td>2018-01-01 00:00:31</td>\n",
       "    </tr>\n",
       "    <tr>\n",
       "      <th>2018-06-16 14:00</th>\n",
       "      <td>TinderTinderTinderTinder</td>\n",
       "      <td>2018-01-01 00:02:34</td>\n",
       "    </tr>\n",
       "    <tr>\n",
       "      <th>2018-06-16 15:00</th>\n",
       "      <td>TinderTinderTinderTinderTinderTinderTinderTind...</td>\n",
       "      <td>2018-01-01 00:10:38</td>\n",
       "    </tr>\n",
       "    <tr>\n",
       "      <th>2018-06-16 16:00</th>\n",
       "      <td>TinderTinderTinderTinderTinder</td>\n",
       "      <td>2018-01-01 00:01:46</td>\n",
       "    </tr>\n",
       "    <tr>\n",
       "      <th>2018-06-16 17:00</th>\n",
       "      <td>TinderTinderTinderTinderTinderTinderTinderTind...</td>\n",
       "      <td>2018-01-01 00:12:58</td>\n",
       "    </tr>\n",
       "    <tr>\n",
       "      <th>2018-06-16 18:00</th>\n",
       "      <td>TinderTinderTinderTinderTinder</td>\n",
       "      <td>2018-01-01 00:02:52</td>\n",
       "    </tr>\n",
       "    <tr>\n",
       "      <th>2018-06-16 19:00</th>\n",
       "      <td>TinderTinderTinderTinderTinderTinderTinder</td>\n",
       "      <td>2018-01-01 00:06:09</td>\n",
       "    </tr>\n",
       "    <tr>\n",
       "      <th>2018-06-16 20:00</th>\n",
       "      <td>TinderTinderTinder</td>\n",
       "      <td>2018-01-01 00:02:21</td>\n",
       "    </tr>\n",
       "    <tr>\n",
       "      <th>2018-06-16 21:00</th>\n",
       "      <td>TinderTinderTinderTinderTinderTinderTinderTind...</td>\n",
       "      <td>2018-01-01 00:03:54</td>\n",
       "    </tr>\n",
       "    <tr>\n",
       "      <th>2018-06-16 22:00</th>\n",
       "      <td>TinderTinderTinderTinderTinderTinderTinderTind...</td>\n",
       "      <td>2018-01-01 00:02:43</td>\n",
       "    </tr>\n",
       "    <tr>\n",
       "      <th>2018-06-16 23:00</th>\n",
       "      <td>TinderTinderTinderTinderTinderTinder</td>\n",
       "      <td>2018-01-01 00:01:02</td>\n",
       "    </tr>\n",
       "    <tr>\n",
       "      <th>2018-06-17 00:00</th>\n",
       "      <td>TinderTinderTinder</td>\n",
       "      <td>2018-01-01 00:01:05</td>\n",
       "    </tr>\n",
       "    <tr>\n",
       "      <th>2018-06-17 01:00</th>\n",
       "      <td>TinderTinderTinderTinderTinderTinderTinderTind...</td>\n",
       "      <td>2018-01-01 00:03:11</td>\n",
       "    </tr>\n",
       "    <tr>\n",
       "      <th>2018-06-17 02:00</th>\n",
       "      <td>Tinder</td>\n",
       "      <td>2018-01-01 00:00:12</td>\n",
       "    </tr>\n",
       "    <tr>\n",
       "      <th>2018-06-17 03:00</th>\n",
       "      <td>Tinder</td>\n",
       "      <td>2018-01-01 00:05:24</td>\n",
       "    </tr>\n",
       "    <tr>\n",
       "      <th>2018-06-17 11:00</th>\n",
       "      <td>Tinder</td>\n",
       "      <td>2018-01-01 00:01:10</td>\n",
       "    </tr>\n",
       "    <tr>\n",
       "      <th>2018-06-17 12:00</th>\n",
       "      <td>TinderTinderTinderTinder</td>\n",
       "      <td>2018-01-01 00:03:03</td>\n",
       "    </tr>\n",
       "    <tr>\n",
       "      <th>2018-06-17 13:00</th>\n",
       "      <td>TinderTinderTinder</td>\n",
       "      <td>2018-01-01 00:04:29</td>\n",
       "    </tr>\n",
       "    <tr>\n",
       "      <th>2018-06-17 20:00</th>\n",
       "      <td>TinderTinderTinderTinderTinder</td>\n",
       "      <td>2018-01-01 00:03:03</td>\n",
       "    </tr>\n",
       "    <tr>\n",
       "      <th>2018-06-17 21:00</th>\n",
       "      <td>TinderTinder</td>\n",
       "      <td>2018-01-01 00:00:47</td>\n",
       "    </tr>\n",
       "    <tr>\n",
       "      <th>2018-06-18 00:00</th>\n",
       "      <td>Tinder</td>\n",
       "      <td>2018-01-01 00:01:29</td>\n",
       "    </tr>\n",
       "    <tr>\n",
       "      <th>2018-06-18 01:00</th>\n",
       "      <td>Tinder</td>\n",
       "      <td>2018-01-01 00:03:34</td>\n",
       "    </tr>\n",
       "    <tr>\n",
       "      <th>2018-06-18 02:00</th>\n",
       "      <td>TinderTinder</td>\n",
       "      <td>2018-01-01 00:03:36</td>\n",
       "    </tr>\n",
       "    <tr>\n",
       "      <th>2018-06-18 09:00</th>\n",
       "      <td>TinderTinder</td>\n",
       "      <td>2018-01-01 00:06:27</td>\n",
       "    </tr>\n",
       "    <tr>\n",
       "      <th>2018-06-18 11:00</th>\n",
       "      <td>TinderTinderTinderTinderTinderTinderTinderTind...</td>\n",
       "      <td>2018-01-01 00:06:42</td>\n",
       "    </tr>\n",
       "    <tr>\n",
       "      <th>2018-06-18 12:00</th>\n",
       "      <td>TinderTinder</td>\n",
       "      <td>2018-01-01 00:01:54</td>\n",
       "    </tr>\n",
       "    <tr>\n",
       "      <th>2018-06-18 13:00</th>\n",
       "      <td>TinderTinderTinder</td>\n",
       "      <td>2018-01-01 00:03:57</td>\n",
       "    </tr>\n",
       "    <tr>\n",
       "      <th>2018-06-18 16:00</th>\n",
       "      <td>TinderTinder</td>\n",
       "      <td>2018-01-01 00:02:14</td>\n",
       "    </tr>\n",
       "    <tr>\n",
       "      <th>2018-06-18 22:00</th>\n",
       "      <td>TinderTinder</td>\n",
       "      <td>2018-01-01 00:12:58</td>\n",
       "    </tr>\n",
       "    <tr>\n",
       "      <th>2018-06-19 08:00</th>\n",
       "      <td>TinderTinder</td>\n",
       "      <td>2018-01-01 00:05:42</td>\n",
       "    </tr>\n",
       "    <tr>\n",
       "      <th>2018-06-19 12:00</th>\n",
       "      <td>Tinder</td>\n",
       "      <td>2018-01-01 00:02:47</td>\n",
       "    </tr>\n",
       "    <tr>\n",
       "      <th>2018-06-19 15:00</th>\n",
       "      <td>TinderTinderTinder</td>\n",
       "      <td>2018-01-01 00:01:07</td>\n",
       "    </tr>\n",
       "    <tr>\n",
       "      <th>2018-06-20 09:00</th>\n",
       "      <td>Tinder</td>\n",
       "      <td>2018-01-01 00:01:21</td>\n",
       "    </tr>\n",
       "    <tr>\n",
       "      <th>2018-06-20 10:00</th>\n",
       "      <td>TinderTinderTinder</td>\n",
       "      <td>2018-01-01 00:04:49</td>\n",
       "    </tr>\n",
       "    <tr>\n",
       "      <th>2018-06-20 12:00</th>\n",
       "      <td>TinderTinderTinderTinderTinderTinderTinderTinder</td>\n",
       "      <td>2018-01-01 00:05:28</td>\n",
       "    </tr>\n",
       "    <tr>\n",
       "      <th>2018-06-20 13:00</th>\n",
       "      <td>TinderTinderTinder</td>\n",
       "      <td>2018-01-01 00:07:33</td>\n",
       "    </tr>\n",
       "    <tr>\n",
       "      <th>2018-06-20 16:00</th>\n",
       "      <td>TinderTinderTinderTinderTinder</td>\n",
       "      <td>2018-01-01 00:04:03</td>\n",
       "    </tr>\n",
       "    <tr>\n",
       "      <th>2018-06-20 17:00</th>\n",
       "      <td>TinderTinderTinderTinderTinderTinderTinderTind...</td>\n",
       "      <td>2018-01-01 00:16:49</td>\n",
       "    </tr>\n",
       "    <tr>\n",
       "      <th>2018-06-20 18:00</th>\n",
       "      <td>TinderTinder</td>\n",
       "      <td>2018-01-01 00:01:01</td>\n",
       "    </tr>\n",
       "    <tr>\n",
       "      <th>2018-06-20 22:00</th>\n",
       "      <td>TinderTinderTinderTinderTinder</td>\n",
       "      <td>2018-01-01 00:02:47</td>\n",
       "    </tr>\n",
       "    <tr>\n",
       "      <th>2018-06-20 23:00</th>\n",
       "      <td>TinderTinderTinderTinderTinderTinderTinderTinder</td>\n",
       "      <td>2018-01-01 00:03:18</td>\n",
       "    </tr>\n",
       "    <tr>\n",
       "      <th>2018-06-21 09:00</th>\n",
       "      <td>TinderTinderTinder</td>\n",
       "      <td>2018-01-01 00:05:36</td>\n",
       "    </tr>\n",
       "    <tr>\n",
       "      <th>2018-06-21 10:00</th>\n",
       "      <td>TinderTinderTinderTinderTinderTinderTinderTind...</td>\n",
       "      <td>2018-01-01 00:05:38</td>\n",
       "    </tr>\n",
       "    <tr>\n",
       "      <th>2018-06-21 12:00</th>\n",
       "      <td>TinderTinderTinder</td>\n",
       "      <td>2018-01-01 00:02:49</td>\n",
       "    </tr>\n",
       "    <tr>\n",
       "      <th>2018-06-21 13:00</th>\n",
       "      <td>TinderTinderTinderTinderTinder</td>\n",
       "      <td>2018-01-01 00:04:26</td>\n",
       "    </tr>\n",
       "    <tr>\n",
       "      <th>2018-06-21 16:00</th>\n",
       "      <td>TinderTinderTinder</td>\n",
       "      <td>2018-01-01 00:06:32</td>\n",
       "    </tr>\n",
       "  </tbody>\n",
       "</table>\n",
       "</div>"
      ],
      "text/plain": [
       "                                                           App name  \\\n",
       "Date_Time                                                             \n",
       "2018-06-14 20:00                                       TinderTinder   \n",
       "2018-06-14 22:00                                       TinderTinder   \n",
       "2018-06-15 00:00                                 TinderTinderTinder   \n",
       "2018-06-15 01:00  TinderTinderTinderTinderTinderTinderTinderTind...   \n",
       "2018-06-15 06:00                                             Tinder   \n",
       "2018-06-15 09:00                                             Tinder   \n",
       "2018-06-15 12:00                                 TinderTinderTinder   \n",
       "2018-06-15 13:00                                 TinderTinderTinder   \n",
       "2018-06-15 14:00                                             Tinder   \n",
       "2018-06-15 20:00                                 TinderTinderTinder   \n",
       "2018-06-16 00:00                           TinderTinderTinderTinder   \n",
       "2018-06-16 01:00                                       TinderTinder   \n",
       "2018-06-16 13:00                                             Tinder   \n",
       "2018-06-16 14:00                           TinderTinderTinderTinder   \n",
       "2018-06-16 15:00  TinderTinderTinderTinderTinderTinderTinderTind...   \n",
       "2018-06-16 16:00                     TinderTinderTinderTinderTinder   \n",
       "2018-06-16 17:00  TinderTinderTinderTinderTinderTinderTinderTind...   \n",
       "2018-06-16 18:00                     TinderTinderTinderTinderTinder   \n",
       "2018-06-16 19:00         TinderTinderTinderTinderTinderTinderTinder   \n",
       "2018-06-16 20:00                                 TinderTinderTinder   \n",
       "2018-06-16 21:00  TinderTinderTinderTinderTinderTinderTinderTind...   \n",
       "2018-06-16 22:00  TinderTinderTinderTinderTinderTinderTinderTind...   \n",
       "2018-06-16 23:00               TinderTinderTinderTinderTinderTinder   \n",
       "2018-06-17 00:00                                 TinderTinderTinder   \n",
       "2018-06-17 01:00  TinderTinderTinderTinderTinderTinderTinderTind...   \n",
       "2018-06-17 02:00                                             Tinder   \n",
       "2018-06-17 03:00                                             Tinder   \n",
       "2018-06-17 11:00                                             Tinder   \n",
       "2018-06-17 12:00                           TinderTinderTinderTinder   \n",
       "2018-06-17 13:00                                 TinderTinderTinder   \n",
       "2018-06-17 20:00                     TinderTinderTinderTinderTinder   \n",
       "2018-06-17 21:00                                       TinderTinder   \n",
       "2018-06-18 00:00                                             Tinder   \n",
       "2018-06-18 01:00                                             Tinder   \n",
       "2018-06-18 02:00                                       TinderTinder   \n",
       "2018-06-18 09:00                                       TinderTinder   \n",
       "2018-06-18 11:00  TinderTinderTinderTinderTinderTinderTinderTind...   \n",
       "2018-06-18 12:00                                       TinderTinder   \n",
       "2018-06-18 13:00                                 TinderTinderTinder   \n",
       "2018-06-18 16:00                                       TinderTinder   \n",
       "2018-06-18 22:00                                       TinderTinder   \n",
       "2018-06-19 08:00                                       TinderTinder   \n",
       "2018-06-19 12:00                                             Tinder   \n",
       "2018-06-19 15:00                                 TinderTinderTinder   \n",
       "2018-06-20 09:00                                             Tinder   \n",
       "2018-06-20 10:00                                 TinderTinderTinder   \n",
       "2018-06-20 12:00   TinderTinderTinderTinderTinderTinderTinderTinder   \n",
       "2018-06-20 13:00                                 TinderTinderTinder   \n",
       "2018-06-20 16:00                     TinderTinderTinderTinderTinder   \n",
       "2018-06-20 17:00  TinderTinderTinderTinderTinderTinderTinderTind...   \n",
       "2018-06-20 18:00                                       TinderTinder   \n",
       "2018-06-20 22:00                     TinderTinderTinderTinderTinder   \n",
       "2018-06-20 23:00   TinderTinderTinderTinderTinderTinderTinderTinder   \n",
       "2018-06-21 09:00                                 TinderTinderTinder   \n",
       "2018-06-21 10:00  TinderTinderTinderTinderTinderTinderTinderTind...   \n",
       "2018-06-21 12:00                                 TinderTinderTinder   \n",
       "2018-06-21 13:00                     TinderTinderTinderTinderTinder   \n",
       "2018-06-21 16:00                                 TinderTinderTinder   \n",
       "\n",
       "                            Duration  \n",
       "Date_Time                             \n",
       "2018-06-14 20:00 2018-01-01 00:07:33  \n",
       "2018-06-14 22:00 2018-01-01 00:00:54  \n",
       "2018-06-15 00:00 2018-01-01 00:02:59  \n",
       "2018-06-15 01:00 2018-01-01 00:16:59  \n",
       "2018-06-15 06:00 2018-01-01 00:00:01  \n",
       "2018-06-15 09:00 2018-01-01 00:00:23  \n",
       "2018-06-15 12:00 2018-01-01 00:03:02  \n",
       "2018-06-15 13:00 2018-01-01 00:02:19  \n",
       "2018-06-15 14:00 2018-01-01 00:00:12  \n",
       "2018-06-15 20:00 2018-01-01 00:02:54  \n",
       "2018-06-16 00:00 2018-01-01 00:05:50  \n",
       "2018-06-16 01:00 2018-01-01 00:01:29  \n",
       "2018-06-16 13:00 2018-01-01 00:00:31  \n",
       "2018-06-16 14:00 2018-01-01 00:02:34  \n",
       "2018-06-16 15:00 2018-01-01 00:10:38  \n",
       "2018-06-16 16:00 2018-01-01 00:01:46  \n",
       "2018-06-16 17:00 2018-01-01 00:12:58  \n",
       "2018-06-16 18:00 2018-01-01 00:02:52  \n",
       "2018-06-16 19:00 2018-01-01 00:06:09  \n",
       "2018-06-16 20:00 2018-01-01 00:02:21  \n",
       "2018-06-16 21:00 2018-01-01 00:03:54  \n",
       "2018-06-16 22:00 2018-01-01 00:02:43  \n",
       "2018-06-16 23:00 2018-01-01 00:01:02  \n",
       "2018-06-17 00:00 2018-01-01 00:01:05  \n",
       "2018-06-17 01:00 2018-01-01 00:03:11  \n",
       "2018-06-17 02:00 2018-01-01 00:00:12  \n",
       "2018-06-17 03:00 2018-01-01 00:05:24  \n",
       "2018-06-17 11:00 2018-01-01 00:01:10  \n",
       "2018-06-17 12:00 2018-01-01 00:03:03  \n",
       "2018-06-17 13:00 2018-01-01 00:04:29  \n",
       "2018-06-17 20:00 2018-01-01 00:03:03  \n",
       "2018-06-17 21:00 2018-01-01 00:00:47  \n",
       "2018-06-18 00:00 2018-01-01 00:01:29  \n",
       "2018-06-18 01:00 2018-01-01 00:03:34  \n",
       "2018-06-18 02:00 2018-01-01 00:03:36  \n",
       "2018-06-18 09:00 2018-01-01 00:06:27  \n",
       "2018-06-18 11:00 2018-01-01 00:06:42  \n",
       "2018-06-18 12:00 2018-01-01 00:01:54  \n",
       "2018-06-18 13:00 2018-01-01 00:03:57  \n",
       "2018-06-18 16:00 2018-01-01 00:02:14  \n",
       "2018-06-18 22:00 2018-01-01 00:12:58  \n",
       "2018-06-19 08:00 2018-01-01 00:05:42  \n",
       "2018-06-19 12:00 2018-01-01 00:02:47  \n",
       "2018-06-19 15:00 2018-01-01 00:01:07  \n",
       "2018-06-20 09:00 2018-01-01 00:01:21  \n",
       "2018-06-20 10:00 2018-01-01 00:04:49  \n",
       "2018-06-20 12:00 2018-01-01 00:05:28  \n",
       "2018-06-20 13:00 2018-01-01 00:07:33  \n",
       "2018-06-20 16:00 2018-01-01 00:04:03  \n",
       "2018-06-20 17:00 2018-01-01 00:16:49  \n",
       "2018-06-20 18:00 2018-01-01 00:01:01  \n",
       "2018-06-20 22:00 2018-01-01 00:02:47  \n",
       "2018-06-20 23:00 2018-01-01 00:03:18  \n",
       "2018-06-21 09:00 2018-01-01 00:05:36  \n",
       "2018-06-21 10:00 2018-01-01 00:05:38  \n",
       "2018-06-21 12:00 2018-01-01 00:02:49  \n",
       "2018-06-21 13:00 2018-01-01 00:04:26  \n",
       "2018-06-21 16:00 2018-01-01 00:06:32  "
      ]
     },
     "execution_count": 9,
     "metadata": {},
     "output_type": "execute_result"
    }
   ],
   "source": [
    "t.Duration = pd.to_datetime('2018-01-01') + t.Duration\n",
    "t"
   ]
  },
  {
   "cell_type": "code",
   "execution_count": 10,
   "metadata": {},
   "outputs": [
    {
     "data": {
      "text/plain": [
       "pandas.core.frame.DataFrame"
      ]
     },
     "execution_count": 10,
     "metadata": {},
     "output_type": "execute_result"
    }
   ],
   "source": [
    "# times = pd.DatetimeIndex(tinder.index)\n",
    "i = tinder.index\n",
    "type(tinder)"
   ]
  },
  {
   "cell_type": "code",
   "execution_count": 11,
   "metadata": {},
   "outputs": [
    {
     "data": {
      "text/html": [
       "<div>\n",
       "<style scoped>\n",
       "    .dataframe tbody tr th:only-of-type {\n",
       "        vertical-align: middle;\n",
       "    }\n",
       "\n",
       "    .dataframe tbody tr th {\n",
       "        vertical-align: top;\n",
       "    }\n",
       "\n",
       "    .dataframe thead th {\n",
       "        text-align: right;\n",
       "    }\n",
       "</style>\n",
       "<table border=\"1\" class=\"dataframe\">\n",
       "  <thead>\n",
       "    <tr style=\"text-align: right;\">\n",
       "      <th></th>\n",
       "      <th>index</th>\n",
       "      <th>Duration</th>\n",
       "    </tr>\n",
       "  </thead>\n",
       "  <tbody>\n",
       "    <tr>\n",
       "      <th>0</th>\n",
       "      <td>2018-06-14</td>\n",
       "      <td>00:08:27</td>\n",
       "    </tr>\n",
       "    <tr>\n",
       "      <th>1</th>\n",
       "      <td>2018-06-15</td>\n",
       "      <td>00:28:49</td>\n",
       "    </tr>\n",
       "    <tr>\n",
       "      <th>2</th>\n",
       "      <td>2018-06-16</td>\n",
       "      <td>00:54:47</td>\n",
       "    </tr>\n",
       "    <tr>\n",
       "      <th>3</th>\n",
       "      <td>2018-06-17</td>\n",
       "      <td>00:22:24</td>\n",
       "    </tr>\n",
       "    <tr>\n",
       "      <th>4</th>\n",
       "      <td>2018-06-18</td>\n",
       "      <td>00:42:51</td>\n",
       "    </tr>\n",
       "  </tbody>\n",
       "</table>\n",
       "</div>"
      ],
      "text/plain": [
       "        index Duration\n",
       "0  2018-06-14 00:08:27\n",
       "1  2018-06-15 00:28:49\n",
       "2  2018-06-16 00:54:47\n",
       "3  2018-06-17 00:22:24\n",
       "4  2018-06-18 00:42:51"
      ]
     },
     "execution_count": 11,
     "metadata": {},
     "output_type": "execute_result"
    }
   ],
   "source": [
    "# tinder = tinder.groupby([i.date, i.hour]).Duration.sum().reset_index()\n",
    "dates = tinder.groupby([i.date]).Duration.sum().to_frame().reset_index()\n",
    "dates.head()"
   ]
  },
  {
   "cell_type": "code",
   "execution_count": 12,
   "metadata": {},
   "outputs": [
    {
     "data": {
      "text/plain": [
       "index       datetime64[ns]\n",
       "Duration            object\n",
       "dtype: object"
      ]
     },
     "execution_count": 12,
     "metadata": {},
     "output_type": "execute_result"
    }
   ],
   "source": [
    "dates['index'] = pd.to_datetime(dates['index'])\n",
    "dates['Duration'] = pd.DatetimeIndex(dates['Duration']).time\n",
    "# dates['Duration'] = pd.datetime.time(dates['Duration'])\n",
    "dates.dtypes"
   ]
  },
  {
   "cell_type": "code",
   "execution_count": 13,
   "metadata": {},
   "outputs": [
    {
     "data": {
      "text/plain": [
       "Date_Time              int64\n",
       "Duration     timedelta64[ns]\n",
       "dtype: object"
      ]
     },
     "execution_count": 13,
     "metadata": {},
     "output_type": "execute_result"
    }
   ],
   "source": [
    "hour = tinder.groupby([i.hour]).Duration.sum().to_frame().reset_index()\n",
    "hour.dtypes"
   ]
  },
  {
   "cell_type": "code",
   "execution_count": 14,
   "metadata": {},
   "outputs": [
    {
     "ename": "KeyError",
     "evalue": "'Date_Time'",
     "output_type": "error",
     "traceback": [
      "\u001b[0;31m---------------------------------------------------------------------------\u001b[0m",
      "\u001b[0;31mKeyError\u001b[0m                                  Traceback (most recent call last)",
      "\u001b[0;32m/git/apptracker/lib/python3.6/site-packages/pandas/core/indexes/base.py\u001b[0m in \u001b[0;36mget_loc\u001b[0;34m(self, key, method, tolerance)\u001b[0m\n\u001b[1;32m   3063\u001b[0m             \u001b[0;32mtry\u001b[0m\u001b[0;34m:\u001b[0m\u001b[0;34m\u001b[0m\u001b[0m\n\u001b[0;32m-> 3064\u001b[0;31m                 \u001b[0;32mreturn\u001b[0m \u001b[0mself\u001b[0m\u001b[0;34m.\u001b[0m\u001b[0m_engine\u001b[0m\u001b[0;34m.\u001b[0m\u001b[0mget_loc\u001b[0m\u001b[0;34m(\u001b[0m\u001b[0mkey\u001b[0m\u001b[0;34m)\u001b[0m\u001b[0;34m\u001b[0m\u001b[0m\n\u001b[0m\u001b[1;32m   3065\u001b[0m             \u001b[0;32mexcept\u001b[0m \u001b[0mKeyError\u001b[0m\u001b[0;34m:\u001b[0m\u001b[0;34m\u001b[0m\u001b[0m\n",
      "\u001b[0;32mpandas/_libs/index.pyx\u001b[0m in \u001b[0;36mpandas._libs.index.IndexEngine.get_loc\u001b[0;34m()\u001b[0m\n",
      "\u001b[0;32mpandas/_libs/index.pyx\u001b[0m in \u001b[0;36mpandas._libs.index.IndexEngine.get_loc\u001b[0;34m()\u001b[0m\n",
      "\u001b[0;32mpandas/_libs/hashtable_class_helper.pxi\u001b[0m in \u001b[0;36mpandas._libs.hashtable.PyObjectHashTable.get_item\u001b[0;34m()\u001b[0m\n",
      "\u001b[0;32mpandas/_libs/hashtable_class_helper.pxi\u001b[0m in \u001b[0;36mpandas._libs.hashtable.PyObjectHashTable.get_item\u001b[0;34m()\u001b[0m\n",
      "\u001b[0;31mKeyError\u001b[0m: 'Date_Time'",
      "\nDuring handling of the above exception, another exception occurred:\n",
      "\u001b[0;31mKeyError\u001b[0m                                  Traceback (most recent call last)",
      "\u001b[0;32m<ipython-input-14-82ef0a02626e>\u001b[0m in \u001b[0;36m<module>\u001b[0;34m()\u001b[0m\n\u001b[0;32m----> 1\u001b[0;31m \u001b[0mt\u001b[0m\u001b[0;34m.\u001b[0m\u001b[0mplot\u001b[0m\u001b[0;34m(\u001b[0m\u001b[0mx\u001b[0m\u001b[0;34m=\u001b[0m\u001b[0;34m'Date_Time'\u001b[0m\u001b[0;34m,\u001b[0m \u001b[0my\u001b[0m\u001b[0;34m=\u001b[0m\u001b[0;34m'Duration'\u001b[0m\u001b[0;34m,\u001b[0m \u001b[0mkind\u001b[0m\u001b[0;34m=\u001b[0m\u001b[0;34m'bar'\u001b[0m\u001b[0;34m)\u001b[0m\u001b[0;34m\u001b[0m\u001b[0m\n\u001b[0m",
      "\u001b[0;32m/git/apptracker/lib/python3.6/site-packages/pandas/plotting/_core.py\u001b[0m in \u001b[0;36m__call__\u001b[0;34m(self, x, y, kind, ax, subplots, sharex, sharey, layout, figsize, use_index, title, grid, legend, style, logx, logy, loglog, xticks, yticks, xlim, ylim, rot, fontsize, colormap, table, yerr, xerr, secondary_y, sort_columns, **kwds)\u001b[0m\n\u001b[1;32m   2939\u001b[0m                           \u001b[0mfontsize\u001b[0m\u001b[0;34m=\u001b[0m\u001b[0mfontsize\u001b[0m\u001b[0;34m,\u001b[0m \u001b[0mcolormap\u001b[0m\u001b[0;34m=\u001b[0m\u001b[0mcolormap\u001b[0m\u001b[0;34m,\u001b[0m \u001b[0mtable\u001b[0m\u001b[0;34m=\u001b[0m\u001b[0mtable\u001b[0m\u001b[0;34m,\u001b[0m\u001b[0;34m\u001b[0m\u001b[0m\n\u001b[1;32m   2940\u001b[0m                           \u001b[0myerr\u001b[0m\u001b[0;34m=\u001b[0m\u001b[0myerr\u001b[0m\u001b[0;34m,\u001b[0m \u001b[0mxerr\u001b[0m\u001b[0;34m=\u001b[0m\u001b[0mxerr\u001b[0m\u001b[0;34m,\u001b[0m \u001b[0msecondary_y\u001b[0m\u001b[0;34m=\u001b[0m\u001b[0msecondary_y\u001b[0m\u001b[0;34m,\u001b[0m\u001b[0;34m\u001b[0m\u001b[0m\n\u001b[0;32m-> 2941\u001b[0;31m                           sort_columns=sort_columns, **kwds)\n\u001b[0m\u001b[1;32m   2942\u001b[0m     \u001b[0m__call__\u001b[0m\u001b[0;34m.\u001b[0m\u001b[0m__doc__\u001b[0m \u001b[0;34m=\u001b[0m \u001b[0mplot_frame\u001b[0m\u001b[0;34m.\u001b[0m\u001b[0m__doc__\u001b[0m\u001b[0;34m\u001b[0m\u001b[0m\n\u001b[1;32m   2943\u001b[0m \u001b[0;34m\u001b[0m\u001b[0m\n",
      "\u001b[0;32m/git/apptracker/lib/python3.6/site-packages/pandas/plotting/_core.py\u001b[0m in \u001b[0;36mplot_frame\u001b[0;34m(data, x, y, kind, ax, subplots, sharex, sharey, layout, figsize, use_index, title, grid, legend, style, logx, logy, loglog, xticks, yticks, xlim, ylim, rot, fontsize, colormap, table, yerr, xerr, secondary_y, sort_columns, **kwds)\u001b[0m\n\u001b[1;32m   1975\u001b[0m                  \u001b[0myerr\u001b[0m\u001b[0;34m=\u001b[0m\u001b[0myerr\u001b[0m\u001b[0;34m,\u001b[0m \u001b[0mxerr\u001b[0m\u001b[0;34m=\u001b[0m\u001b[0mxerr\u001b[0m\u001b[0;34m,\u001b[0m\u001b[0;34m\u001b[0m\u001b[0m\n\u001b[1;32m   1976\u001b[0m                  \u001b[0msecondary_y\u001b[0m\u001b[0;34m=\u001b[0m\u001b[0msecondary_y\u001b[0m\u001b[0;34m,\u001b[0m \u001b[0msort_columns\u001b[0m\u001b[0;34m=\u001b[0m\u001b[0msort_columns\u001b[0m\u001b[0;34m,\u001b[0m\u001b[0;34m\u001b[0m\u001b[0m\n\u001b[0;32m-> 1977\u001b[0;31m                  **kwds)\n\u001b[0m\u001b[1;32m   1978\u001b[0m \u001b[0;34m\u001b[0m\u001b[0m\n\u001b[1;32m   1979\u001b[0m \u001b[0;34m\u001b[0m\u001b[0m\n",
      "\u001b[0;32m/git/apptracker/lib/python3.6/site-packages/pandas/plotting/_core.py\u001b[0m in \u001b[0;36m_plot\u001b[0;34m(data, x, y, subplots, ax, kind, **kwds)\u001b[0m\n\u001b[1;32m   1764\u001b[0m                 \u001b[0;32mif\u001b[0m \u001b[0mis_integer\u001b[0m\u001b[0;34m(\u001b[0m\u001b[0mx\u001b[0m\u001b[0;34m)\u001b[0m \u001b[0;32mand\u001b[0m \u001b[0;32mnot\u001b[0m \u001b[0mdata\u001b[0m\u001b[0;34m.\u001b[0m\u001b[0mcolumns\u001b[0m\u001b[0;34m.\u001b[0m\u001b[0mholds_integer\u001b[0m\u001b[0;34m(\u001b[0m\u001b[0;34m)\u001b[0m\u001b[0;34m:\u001b[0m\u001b[0;34m\u001b[0m\u001b[0m\n\u001b[1;32m   1765\u001b[0m                     \u001b[0mx\u001b[0m \u001b[0;34m=\u001b[0m \u001b[0mdata_cols\u001b[0m\u001b[0;34m[\u001b[0m\u001b[0mx\u001b[0m\u001b[0;34m]\u001b[0m\u001b[0;34m\u001b[0m\u001b[0m\n\u001b[0;32m-> 1766\u001b[0;31m                 \u001b[0;32melif\u001b[0m \u001b[0;32mnot\u001b[0m \u001b[0misinstance\u001b[0m\u001b[0;34m(\u001b[0m\u001b[0mdata\u001b[0m\u001b[0;34m[\u001b[0m\u001b[0mx\u001b[0m\u001b[0;34m]\u001b[0m\u001b[0;34m,\u001b[0m \u001b[0mABCSeries\u001b[0m\u001b[0;34m)\u001b[0m\u001b[0;34m:\u001b[0m\u001b[0;34m\u001b[0m\u001b[0m\n\u001b[0m\u001b[1;32m   1767\u001b[0m                     \u001b[0;32mraise\u001b[0m \u001b[0mValueError\u001b[0m\u001b[0;34m(\u001b[0m\u001b[0;34m\"x must be a label or position\"\u001b[0m\u001b[0;34m)\u001b[0m\u001b[0;34m\u001b[0m\u001b[0m\n\u001b[1;32m   1768\u001b[0m                 \u001b[0mdata\u001b[0m \u001b[0;34m=\u001b[0m \u001b[0mdata\u001b[0m\u001b[0;34m.\u001b[0m\u001b[0mset_index\u001b[0m\u001b[0;34m(\u001b[0m\u001b[0mx\u001b[0m\u001b[0;34m)\u001b[0m\u001b[0;34m\u001b[0m\u001b[0m\n",
      "\u001b[0;32m/git/apptracker/lib/python3.6/site-packages/pandas/core/frame.py\u001b[0m in \u001b[0;36m__getitem__\u001b[0;34m(self, key)\u001b[0m\n\u001b[1;32m   2686\u001b[0m             \u001b[0;32mreturn\u001b[0m \u001b[0mself\u001b[0m\u001b[0;34m.\u001b[0m\u001b[0m_getitem_multilevel\u001b[0m\u001b[0;34m(\u001b[0m\u001b[0mkey\u001b[0m\u001b[0;34m)\u001b[0m\u001b[0;34m\u001b[0m\u001b[0m\n\u001b[1;32m   2687\u001b[0m         \u001b[0;32melse\u001b[0m\u001b[0;34m:\u001b[0m\u001b[0;34m\u001b[0m\u001b[0m\n\u001b[0;32m-> 2688\u001b[0;31m             \u001b[0;32mreturn\u001b[0m \u001b[0mself\u001b[0m\u001b[0;34m.\u001b[0m\u001b[0m_getitem_column\u001b[0m\u001b[0;34m(\u001b[0m\u001b[0mkey\u001b[0m\u001b[0;34m)\u001b[0m\u001b[0;34m\u001b[0m\u001b[0m\n\u001b[0m\u001b[1;32m   2689\u001b[0m \u001b[0;34m\u001b[0m\u001b[0m\n\u001b[1;32m   2690\u001b[0m     \u001b[0;32mdef\u001b[0m \u001b[0m_getitem_column\u001b[0m\u001b[0;34m(\u001b[0m\u001b[0mself\u001b[0m\u001b[0;34m,\u001b[0m \u001b[0mkey\u001b[0m\u001b[0;34m)\u001b[0m\u001b[0;34m:\u001b[0m\u001b[0;34m\u001b[0m\u001b[0m\n",
      "\u001b[0;32m/git/apptracker/lib/python3.6/site-packages/pandas/core/frame.py\u001b[0m in \u001b[0;36m_getitem_column\u001b[0;34m(self, key)\u001b[0m\n\u001b[1;32m   2693\u001b[0m         \u001b[0;31m# get column\u001b[0m\u001b[0;34m\u001b[0m\u001b[0;34m\u001b[0m\u001b[0m\n\u001b[1;32m   2694\u001b[0m         \u001b[0;32mif\u001b[0m \u001b[0mself\u001b[0m\u001b[0;34m.\u001b[0m\u001b[0mcolumns\u001b[0m\u001b[0;34m.\u001b[0m\u001b[0mis_unique\u001b[0m\u001b[0;34m:\u001b[0m\u001b[0;34m\u001b[0m\u001b[0m\n\u001b[0;32m-> 2695\u001b[0;31m             \u001b[0;32mreturn\u001b[0m \u001b[0mself\u001b[0m\u001b[0;34m.\u001b[0m\u001b[0m_get_item_cache\u001b[0m\u001b[0;34m(\u001b[0m\u001b[0mkey\u001b[0m\u001b[0;34m)\u001b[0m\u001b[0;34m\u001b[0m\u001b[0m\n\u001b[0m\u001b[1;32m   2696\u001b[0m \u001b[0;34m\u001b[0m\u001b[0m\n\u001b[1;32m   2697\u001b[0m         \u001b[0;31m# duplicate columns & possible reduce dimensionality\u001b[0m\u001b[0;34m\u001b[0m\u001b[0;34m\u001b[0m\u001b[0m\n",
      "\u001b[0;32m/git/apptracker/lib/python3.6/site-packages/pandas/core/generic.py\u001b[0m in \u001b[0;36m_get_item_cache\u001b[0;34m(self, item)\u001b[0m\n\u001b[1;32m   2484\u001b[0m         \u001b[0mres\u001b[0m \u001b[0;34m=\u001b[0m \u001b[0mcache\u001b[0m\u001b[0;34m.\u001b[0m\u001b[0mget\u001b[0m\u001b[0;34m(\u001b[0m\u001b[0mitem\u001b[0m\u001b[0;34m)\u001b[0m\u001b[0;34m\u001b[0m\u001b[0m\n\u001b[1;32m   2485\u001b[0m         \u001b[0;32mif\u001b[0m \u001b[0mres\u001b[0m \u001b[0;32mis\u001b[0m \u001b[0;32mNone\u001b[0m\u001b[0;34m:\u001b[0m\u001b[0;34m\u001b[0m\u001b[0m\n\u001b[0;32m-> 2486\u001b[0;31m             \u001b[0mvalues\u001b[0m \u001b[0;34m=\u001b[0m \u001b[0mself\u001b[0m\u001b[0;34m.\u001b[0m\u001b[0m_data\u001b[0m\u001b[0;34m.\u001b[0m\u001b[0mget\u001b[0m\u001b[0;34m(\u001b[0m\u001b[0mitem\u001b[0m\u001b[0;34m)\u001b[0m\u001b[0;34m\u001b[0m\u001b[0m\n\u001b[0m\u001b[1;32m   2487\u001b[0m             \u001b[0mres\u001b[0m \u001b[0;34m=\u001b[0m \u001b[0mself\u001b[0m\u001b[0;34m.\u001b[0m\u001b[0m_box_item_values\u001b[0m\u001b[0;34m(\u001b[0m\u001b[0mitem\u001b[0m\u001b[0;34m,\u001b[0m \u001b[0mvalues\u001b[0m\u001b[0;34m)\u001b[0m\u001b[0;34m\u001b[0m\u001b[0m\n\u001b[1;32m   2488\u001b[0m             \u001b[0mcache\u001b[0m\u001b[0;34m[\u001b[0m\u001b[0mitem\u001b[0m\u001b[0;34m]\u001b[0m \u001b[0;34m=\u001b[0m \u001b[0mres\u001b[0m\u001b[0;34m\u001b[0m\u001b[0m\n",
      "\u001b[0;32m/git/apptracker/lib/python3.6/site-packages/pandas/core/internals.py\u001b[0m in \u001b[0;36mget\u001b[0;34m(self, item, fastpath)\u001b[0m\n\u001b[1;32m   4113\u001b[0m \u001b[0;34m\u001b[0m\u001b[0m\n\u001b[1;32m   4114\u001b[0m             \u001b[0;32mif\u001b[0m \u001b[0;32mnot\u001b[0m \u001b[0misna\u001b[0m\u001b[0;34m(\u001b[0m\u001b[0mitem\u001b[0m\u001b[0;34m)\u001b[0m\u001b[0;34m:\u001b[0m\u001b[0;34m\u001b[0m\u001b[0m\n\u001b[0;32m-> 4115\u001b[0;31m                 \u001b[0mloc\u001b[0m \u001b[0;34m=\u001b[0m \u001b[0mself\u001b[0m\u001b[0;34m.\u001b[0m\u001b[0mitems\u001b[0m\u001b[0;34m.\u001b[0m\u001b[0mget_loc\u001b[0m\u001b[0;34m(\u001b[0m\u001b[0mitem\u001b[0m\u001b[0;34m)\u001b[0m\u001b[0;34m\u001b[0m\u001b[0m\n\u001b[0m\u001b[1;32m   4116\u001b[0m             \u001b[0;32melse\u001b[0m\u001b[0;34m:\u001b[0m\u001b[0;34m\u001b[0m\u001b[0m\n\u001b[1;32m   4117\u001b[0m                 \u001b[0mindexer\u001b[0m \u001b[0;34m=\u001b[0m \u001b[0mnp\u001b[0m\u001b[0;34m.\u001b[0m\u001b[0marange\u001b[0m\u001b[0;34m(\u001b[0m\u001b[0mlen\u001b[0m\u001b[0;34m(\u001b[0m\u001b[0mself\u001b[0m\u001b[0;34m.\u001b[0m\u001b[0mitems\u001b[0m\u001b[0;34m)\u001b[0m\u001b[0;34m)\u001b[0m\u001b[0;34m[\u001b[0m\u001b[0misna\u001b[0m\u001b[0;34m(\u001b[0m\u001b[0mself\u001b[0m\u001b[0;34m.\u001b[0m\u001b[0mitems\u001b[0m\u001b[0;34m)\u001b[0m\u001b[0;34m]\u001b[0m\u001b[0;34m\u001b[0m\u001b[0m\n",
      "\u001b[0;32m/git/apptracker/lib/python3.6/site-packages/pandas/core/indexes/base.py\u001b[0m in \u001b[0;36mget_loc\u001b[0;34m(self, key, method, tolerance)\u001b[0m\n\u001b[1;32m   3064\u001b[0m                 \u001b[0;32mreturn\u001b[0m \u001b[0mself\u001b[0m\u001b[0;34m.\u001b[0m\u001b[0m_engine\u001b[0m\u001b[0;34m.\u001b[0m\u001b[0mget_loc\u001b[0m\u001b[0;34m(\u001b[0m\u001b[0mkey\u001b[0m\u001b[0;34m)\u001b[0m\u001b[0;34m\u001b[0m\u001b[0m\n\u001b[1;32m   3065\u001b[0m             \u001b[0;32mexcept\u001b[0m \u001b[0mKeyError\u001b[0m\u001b[0;34m:\u001b[0m\u001b[0;34m\u001b[0m\u001b[0m\n\u001b[0;32m-> 3066\u001b[0;31m                 \u001b[0;32mreturn\u001b[0m \u001b[0mself\u001b[0m\u001b[0;34m.\u001b[0m\u001b[0m_engine\u001b[0m\u001b[0;34m.\u001b[0m\u001b[0mget_loc\u001b[0m\u001b[0;34m(\u001b[0m\u001b[0mself\u001b[0m\u001b[0;34m.\u001b[0m\u001b[0m_maybe_cast_indexer\u001b[0m\u001b[0;34m(\u001b[0m\u001b[0mkey\u001b[0m\u001b[0;34m)\u001b[0m\u001b[0;34m)\u001b[0m\u001b[0;34m\u001b[0m\u001b[0m\n\u001b[0m\u001b[1;32m   3067\u001b[0m \u001b[0;34m\u001b[0m\u001b[0m\n\u001b[1;32m   3068\u001b[0m         \u001b[0mindexer\u001b[0m \u001b[0;34m=\u001b[0m \u001b[0mself\u001b[0m\u001b[0;34m.\u001b[0m\u001b[0mget_indexer\u001b[0m\u001b[0;34m(\u001b[0m\u001b[0;34m[\u001b[0m\u001b[0mkey\u001b[0m\u001b[0;34m]\u001b[0m\u001b[0;34m,\u001b[0m \u001b[0mmethod\u001b[0m\u001b[0;34m=\u001b[0m\u001b[0mmethod\u001b[0m\u001b[0;34m,\u001b[0m \u001b[0mtolerance\u001b[0m\u001b[0;34m=\u001b[0m\u001b[0mtolerance\u001b[0m\u001b[0;34m)\u001b[0m\u001b[0;34m\u001b[0m\u001b[0m\n",
      "\u001b[0;32mpandas/_libs/index.pyx\u001b[0m in \u001b[0;36mpandas._libs.index.IndexEngine.get_loc\u001b[0;34m()\u001b[0m\n",
      "\u001b[0;32mpandas/_libs/index.pyx\u001b[0m in \u001b[0;36mpandas._libs.index.IndexEngine.get_loc\u001b[0;34m()\u001b[0m\n",
      "\u001b[0;32mpandas/_libs/hashtable_class_helper.pxi\u001b[0m in \u001b[0;36mpandas._libs.hashtable.PyObjectHashTable.get_item\u001b[0;34m()\u001b[0m\n",
      "\u001b[0;32mpandas/_libs/hashtable_class_helper.pxi\u001b[0m in \u001b[0;36mpandas._libs.hashtable.PyObjectHashTable.get_item\u001b[0;34m()\u001b[0m\n",
      "\u001b[0;31mKeyError\u001b[0m: 'Date_Time'"
     ]
    }
   ],
   "source": [
    "t.plot(x='Date_Time', y='Duration', kind='bar')"
   ]
  },
  {
   "cell_type": "code",
   "execution_count": 10,
   "metadata": {},
   "outputs": [
    {
     "data": {
      "application/vnd.vegalite.v2+json": {
       "$schema": "https://vega.github.io/schema/vega-lite/v2.4.3.json",
       "config": {
        "view": {
         "height": 300,
         "width": 400
        }
       },
       "data": {
        "values": [
         {
          "Date_Time": "2018-06-14 20:00:00",
          "Duration": "2018-06-14 00:07:33"
         },
         {
          "Date_Time": "2018-06-14 21:00:00",
          "Duration": "2018-06-14 00:00:00"
         },
         {
          "Date_Time": "2018-06-14 22:00:00",
          "Duration": "2018-06-14 00:00:54"
         },
         {
          "Date_Time": "2018-06-14 23:00:00",
          "Duration": "2018-06-14 00:00:00"
         },
         {
          "Date_Time": "2018-06-15 00:00:00",
          "Duration": "2018-06-15 00:02:59"
         },
         {
          "Date_Time": "2018-06-15 01:00:00",
          "Duration": "2018-06-15 00:16:59"
         },
         {
          "Date_Time": "2018-06-15 02:00:00",
          "Duration": "2018-06-15 00:00:00"
         },
         {
          "Date_Time": "2018-06-15 03:00:00",
          "Duration": "2018-06-15 00:00:00"
         },
         {
          "Date_Time": "2018-06-15 04:00:00",
          "Duration": "2018-06-15 00:00:00"
         },
         {
          "Date_Time": "2018-06-15 05:00:00",
          "Duration": "2018-06-15 00:00:00"
         },
         {
          "Date_Time": "2018-06-15 06:00:00",
          "Duration": "2018-06-15 00:00:01"
         },
         {
          "Date_Time": "2018-06-15 07:00:00",
          "Duration": "2018-06-15 00:00:00"
         },
         {
          "Date_Time": "2018-06-15 08:00:00",
          "Duration": "2018-06-15 00:00:00"
         },
         {
          "Date_Time": "2018-06-15 09:00:00",
          "Duration": "2018-06-15 00:00:23"
         },
         {
          "Date_Time": "2018-06-15 10:00:00",
          "Duration": "2018-06-15 00:00:00"
         },
         {
          "Date_Time": "2018-06-15 11:00:00",
          "Duration": "2018-06-15 00:00:00"
         },
         {
          "Date_Time": "2018-06-15 12:00:00",
          "Duration": "2018-06-15 00:03:02"
         },
         {
          "Date_Time": "2018-06-15 13:00:00",
          "Duration": "2018-06-15 00:02:19"
         },
         {
          "Date_Time": "2018-06-15 14:00:00",
          "Duration": "2018-06-15 00:00:12"
         },
         {
          "Date_Time": "2018-06-15 15:00:00",
          "Duration": "2018-06-15 00:00:00"
         },
         {
          "Date_Time": "2018-06-15 16:00:00",
          "Duration": "2018-06-15 00:00:00"
         },
         {
          "Date_Time": "2018-06-15 17:00:00",
          "Duration": "2018-06-15 00:00:00"
         },
         {
          "Date_Time": "2018-06-15 18:00:00",
          "Duration": "2018-06-15 00:00:00"
         },
         {
          "Date_Time": "2018-06-15 19:00:00",
          "Duration": "2018-06-15 00:00:00"
         },
         {
          "Date_Time": "2018-06-15 20:00:00",
          "Duration": "2018-06-15 00:02:54"
         },
         {
          "Date_Time": "2018-06-15 21:00:00",
          "Duration": "2018-06-15 00:00:00"
         },
         {
          "Date_Time": "2018-06-15 22:00:00",
          "Duration": "2018-06-15 00:00:00"
         },
         {
          "Date_Time": "2018-06-15 23:00:00",
          "Duration": "2018-06-15 00:00:00"
         },
         {
          "Date_Time": "2018-06-16 00:00:00",
          "Duration": "2018-06-16 00:05:50"
         },
         {
          "Date_Time": "2018-06-16 01:00:00",
          "Duration": "2018-06-16 00:01:29"
         },
         {
          "Date_Time": "2018-06-16 02:00:00",
          "Duration": "2018-06-16 00:00:00"
         },
         {
          "Date_Time": "2018-06-16 03:00:00",
          "Duration": "2018-06-16 00:00:00"
         },
         {
          "Date_Time": "2018-06-16 04:00:00",
          "Duration": "2018-06-16 00:00:00"
         },
         {
          "Date_Time": "2018-06-16 05:00:00",
          "Duration": "2018-06-16 00:00:00"
         },
         {
          "Date_Time": "2018-06-16 06:00:00",
          "Duration": "2018-06-16 00:00:00"
         },
         {
          "Date_Time": "2018-06-16 07:00:00",
          "Duration": "2018-06-16 00:00:00"
         },
         {
          "Date_Time": "2018-06-16 08:00:00",
          "Duration": "2018-06-16 00:00:00"
         },
         {
          "Date_Time": "2018-06-16 09:00:00",
          "Duration": "2018-06-16 00:00:00"
         },
         {
          "Date_Time": "2018-06-16 10:00:00",
          "Duration": "2018-06-16 00:00:00"
         },
         {
          "Date_Time": "2018-06-16 11:00:00",
          "Duration": "2018-06-16 00:00:00"
         },
         {
          "Date_Time": "2018-06-16 12:00:00",
          "Duration": "2018-06-16 00:00:00"
         },
         {
          "Date_Time": "2018-06-16 13:00:00",
          "Duration": "2018-06-16 00:00:31"
         },
         {
          "Date_Time": "2018-06-16 14:00:00",
          "Duration": "2018-06-16 00:02:34"
         },
         {
          "Date_Time": "2018-06-16 15:00:00",
          "Duration": "2018-06-16 00:10:38"
         },
         {
          "Date_Time": "2018-06-16 16:00:00",
          "Duration": "2018-06-16 00:01:46"
         },
         {
          "Date_Time": "2018-06-16 17:00:00",
          "Duration": "2018-06-16 00:12:58"
         },
         {
          "Date_Time": "2018-06-16 18:00:00",
          "Duration": "2018-06-16 00:02:52"
         },
         {
          "Date_Time": "2018-06-16 19:00:00",
          "Duration": "2018-06-16 00:06:09"
         },
         {
          "Date_Time": "2018-06-16 20:00:00",
          "Duration": "2018-06-16 00:02:21"
         },
         {
          "Date_Time": "2018-06-16 21:00:00",
          "Duration": "2018-06-16 00:03:54"
         },
         {
          "Date_Time": "2018-06-16 22:00:00",
          "Duration": "2018-06-16 00:02:43"
         },
         {
          "Date_Time": "2018-06-16 23:00:00",
          "Duration": "2018-06-16 00:01:02"
         },
         {
          "Date_Time": "2018-06-17 00:00:00",
          "Duration": "2018-06-17 00:01:05"
         },
         {
          "Date_Time": "2018-06-17 01:00:00",
          "Duration": "2018-06-17 00:03:11"
         },
         {
          "Date_Time": "2018-06-17 02:00:00",
          "Duration": "2018-06-17 00:00:12"
         },
         {
          "Date_Time": "2018-06-17 03:00:00",
          "Duration": "2018-06-17 00:05:24"
         },
         {
          "Date_Time": "2018-06-17 04:00:00",
          "Duration": "2018-06-17 00:00:00"
         },
         {
          "Date_Time": "2018-06-17 05:00:00",
          "Duration": "2018-06-17 00:00:00"
         },
         {
          "Date_Time": "2018-06-17 06:00:00",
          "Duration": "2018-06-17 00:00:00"
         },
         {
          "Date_Time": "2018-06-17 07:00:00",
          "Duration": "2018-06-17 00:00:00"
         },
         {
          "Date_Time": "2018-06-17 08:00:00",
          "Duration": "2018-06-17 00:00:00"
         },
         {
          "Date_Time": "2018-06-17 09:00:00",
          "Duration": "2018-06-17 00:00:00"
         },
         {
          "Date_Time": "2018-06-17 10:00:00",
          "Duration": "2018-06-17 00:00:00"
         },
         {
          "Date_Time": "2018-06-17 11:00:00",
          "Duration": "2018-06-17 00:01:10"
         },
         {
          "Date_Time": "2018-06-17 12:00:00",
          "Duration": "2018-06-17 00:03:03"
         },
         {
          "Date_Time": "2018-06-17 13:00:00",
          "Duration": "2018-06-17 00:04:29"
         },
         {
          "Date_Time": "2018-06-17 14:00:00",
          "Duration": "2018-06-17 00:00:00"
         },
         {
          "Date_Time": "2018-06-17 15:00:00",
          "Duration": "2018-06-17 00:00:00"
         },
         {
          "Date_Time": "2018-06-17 16:00:00",
          "Duration": "2018-06-17 00:00:00"
         },
         {
          "Date_Time": "2018-06-17 17:00:00",
          "Duration": "2018-06-17 00:00:00"
         },
         {
          "Date_Time": "2018-06-17 18:00:00",
          "Duration": "2018-06-17 00:00:00"
         },
         {
          "Date_Time": "2018-06-17 19:00:00",
          "Duration": "2018-06-17 00:00:00"
         },
         {
          "Date_Time": "2018-06-17 20:00:00",
          "Duration": "2018-06-17 00:03:03"
         },
         {
          "Date_Time": "2018-06-17 21:00:00",
          "Duration": "2018-06-17 00:00:47"
         },
         {
          "Date_Time": "2018-06-17 22:00:00",
          "Duration": "2018-06-17 00:00:00"
         },
         {
          "Date_Time": "2018-06-17 23:00:00",
          "Duration": "2018-06-17 00:00:00"
         },
         {
          "Date_Time": "2018-06-18 00:00:00",
          "Duration": "2018-06-18 00:01:29"
         },
         {
          "Date_Time": "2018-06-18 01:00:00",
          "Duration": "2018-06-18 00:03:34"
         },
         {
          "Date_Time": "2018-06-18 02:00:00",
          "Duration": "2018-06-18 00:03:36"
         },
         {
          "Date_Time": "2018-06-18 03:00:00",
          "Duration": "2018-06-18 00:00:00"
         },
         {
          "Date_Time": "2018-06-18 04:00:00",
          "Duration": "2018-06-18 00:00:00"
         },
         {
          "Date_Time": "2018-06-18 05:00:00",
          "Duration": "2018-06-18 00:00:00"
         },
         {
          "Date_Time": "2018-06-18 06:00:00",
          "Duration": "2018-06-18 00:00:00"
         },
         {
          "Date_Time": "2018-06-18 07:00:00",
          "Duration": "2018-06-18 00:00:00"
         },
         {
          "Date_Time": "2018-06-18 08:00:00",
          "Duration": "2018-06-18 00:00:00"
         },
         {
          "Date_Time": "2018-06-18 09:00:00",
          "Duration": "2018-06-18 00:06:27"
         },
         {
          "Date_Time": "2018-06-18 10:00:00",
          "Duration": "2018-06-18 00:00:00"
         },
         {
          "Date_Time": "2018-06-18 11:00:00",
          "Duration": "2018-06-18 00:06:42"
         },
         {
          "Date_Time": "2018-06-18 12:00:00",
          "Duration": "2018-06-18 00:01:54"
         },
         {
          "Date_Time": "2018-06-18 13:00:00",
          "Duration": "2018-06-18 00:03:57"
         },
         {
          "Date_Time": "2018-06-18 14:00:00",
          "Duration": "2018-06-18 00:00:00"
         },
         {
          "Date_Time": "2018-06-18 15:00:00",
          "Duration": "2018-06-18 00:00:00"
         },
         {
          "Date_Time": "2018-06-18 16:00:00",
          "Duration": "2018-06-18 00:02:14"
         },
         {
          "Date_Time": "2018-06-18 17:00:00",
          "Duration": "2018-06-18 00:00:00"
         },
         {
          "Date_Time": "2018-06-18 18:00:00",
          "Duration": "2018-06-18 00:00:00"
         },
         {
          "Date_Time": "2018-06-18 19:00:00",
          "Duration": "2018-06-18 00:00:00"
         },
         {
          "Date_Time": "2018-06-18 20:00:00",
          "Duration": "2018-06-18 00:00:00"
         },
         {
          "Date_Time": "2018-06-18 21:00:00",
          "Duration": "2018-06-18 00:00:00"
         },
         {
          "Date_Time": "2018-06-18 22:00:00",
          "Duration": "2018-06-18 00:12:58"
         },
         {
          "Date_Time": "2018-06-18 23:00:00",
          "Duration": "2018-06-18 00:00:00"
         },
         {
          "Date_Time": "2018-06-19 00:00:00",
          "Duration": "2018-06-19 00:00:00"
         },
         {
          "Date_Time": "2018-06-19 01:00:00",
          "Duration": "2018-06-19 00:00:00"
         },
         {
          "Date_Time": "2018-06-19 02:00:00",
          "Duration": "2018-06-19 00:00:00"
         },
         {
          "Date_Time": "2018-06-19 03:00:00",
          "Duration": "2018-06-19 00:00:00"
         },
         {
          "Date_Time": "2018-06-19 04:00:00",
          "Duration": "2018-06-19 00:00:00"
         },
         {
          "Date_Time": "2018-06-19 05:00:00",
          "Duration": "2018-06-19 00:00:00"
         },
         {
          "Date_Time": "2018-06-19 06:00:00",
          "Duration": "2018-06-19 00:00:00"
         },
         {
          "Date_Time": "2018-06-19 07:00:00",
          "Duration": "2018-06-19 00:00:00"
         },
         {
          "Date_Time": "2018-06-19 08:00:00",
          "Duration": "2018-06-19 00:05:42"
         },
         {
          "Date_Time": "2018-06-19 09:00:00",
          "Duration": "2018-06-19 00:00:00"
         },
         {
          "Date_Time": "2018-06-19 10:00:00",
          "Duration": "2018-06-19 00:00:00"
         },
         {
          "Date_Time": "2018-06-19 11:00:00",
          "Duration": "2018-06-19 00:00:00"
         },
         {
          "Date_Time": "2018-06-19 12:00:00",
          "Duration": "2018-06-19 00:02:47"
         },
         {
          "Date_Time": "2018-06-19 13:00:00",
          "Duration": "2018-06-19 00:00:00"
         },
         {
          "Date_Time": "2018-06-19 14:00:00",
          "Duration": "2018-06-19 00:00:00"
         },
         {
          "Date_Time": "2018-06-19 15:00:00",
          "Duration": "2018-06-19 00:01:07"
         },
         {
          "Date_Time": "2018-06-19 16:00:00",
          "Duration": "2018-06-19 00:00:00"
         },
         {
          "Date_Time": "2018-06-19 17:00:00",
          "Duration": "2018-06-19 00:00:00"
         },
         {
          "Date_Time": "2018-06-19 18:00:00",
          "Duration": "2018-06-19 00:00:00"
         },
         {
          "Date_Time": "2018-06-19 19:00:00",
          "Duration": "2018-06-19 00:00:00"
         },
         {
          "Date_Time": "2018-06-19 20:00:00",
          "Duration": "2018-06-19 00:00:00"
         },
         {
          "Date_Time": "2018-06-19 21:00:00",
          "Duration": "2018-06-19 00:00:00"
         },
         {
          "Date_Time": "2018-06-19 22:00:00",
          "Duration": "2018-06-19 00:00:00"
         },
         {
          "Date_Time": "2018-06-19 23:00:00",
          "Duration": "2018-06-19 00:00:00"
         },
         {
          "Date_Time": "2018-06-20 00:00:00",
          "Duration": "2018-06-20 00:00:00"
         },
         {
          "Date_Time": "2018-06-20 01:00:00",
          "Duration": "2018-06-20 00:00:00"
         },
         {
          "Date_Time": "2018-06-20 02:00:00",
          "Duration": "2018-06-20 00:00:00"
         },
         {
          "Date_Time": "2018-06-20 03:00:00",
          "Duration": "2018-06-20 00:00:00"
         },
         {
          "Date_Time": "2018-06-20 04:00:00",
          "Duration": "2018-06-20 00:00:00"
         },
         {
          "Date_Time": "2018-06-20 05:00:00",
          "Duration": "2018-06-20 00:00:00"
         },
         {
          "Date_Time": "2018-06-20 06:00:00",
          "Duration": "2018-06-20 00:00:00"
         },
         {
          "Date_Time": "2018-06-20 07:00:00",
          "Duration": "2018-06-20 00:00:00"
         },
         {
          "Date_Time": "2018-06-20 08:00:00",
          "Duration": "2018-06-20 00:00:00"
         },
         {
          "Date_Time": "2018-06-20 09:00:00",
          "Duration": "2018-06-20 00:01:21"
         },
         {
          "Date_Time": "2018-06-20 10:00:00",
          "Duration": "2018-06-20 00:04:49"
         },
         {
          "Date_Time": "2018-06-20 11:00:00",
          "Duration": "2018-06-20 00:00:00"
         },
         {
          "Date_Time": "2018-06-20 12:00:00",
          "Duration": "2018-06-20 00:05:28"
         },
         {
          "Date_Time": "2018-06-20 13:00:00",
          "Duration": "2018-06-20 00:07:33"
         },
         {
          "Date_Time": "2018-06-20 14:00:00",
          "Duration": "2018-06-20 00:00:00"
         },
         {
          "Date_Time": "2018-06-20 15:00:00",
          "Duration": "2018-06-20 00:00:00"
         },
         {
          "Date_Time": "2018-06-20 16:00:00",
          "Duration": "2018-06-20 00:04:03"
         },
         {
          "Date_Time": "2018-06-20 17:00:00",
          "Duration": "2018-06-20 00:16:49"
         },
         {
          "Date_Time": "2018-06-20 18:00:00",
          "Duration": "2018-06-20 00:01:01"
         },
         {
          "Date_Time": "2018-06-20 19:00:00",
          "Duration": "2018-06-20 00:00:00"
         },
         {
          "Date_Time": "2018-06-20 20:00:00",
          "Duration": "2018-06-20 00:00:00"
         },
         {
          "Date_Time": "2018-06-20 21:00:00",
          "Duration": "2018-06-20 00:00:00"
         },
         {
          "Date_Time": "2018-06-20 22:00:00",
          "Duration": "2018-06-20 00:02:47"
         },
         {
          "Date_Time": "2018-06-20 23:00:00",
          "Duration": "2018-06-20 00:03:18"
         },
         {
          "Date_Time": "2018-06-21 00:00:00",
          "Duration": "2018-06-21 00:00:00"
         },
         {
          "Date_Time": "2018-06-21 01:00:00",
          "Duration": "2018-06-21 00:00:00"
         },
         {
          "Date_Time": "2018-06-21 02:00:00",
          "Duration": "2018-06-21 00:00:00"
         },
         {
          "Date_Time": "2018-06-21 03:00:00",
          "Duration": "2018-06-21 00:00:00"
         },
         {
          "Date_Time": "2018-06-21 04:00:00",
          "Duration": "2018-06-21 00:00:00"
         },
         {
          "Date_Time": "2018-06-21 05:00:00",
          "Duration": "2018-06-21 00:00:00"
         },
         {
          "Date_Time": "2018-06-21 06:00:00",
          "Duration": "2018-06-21 00:00:00"
         },
         {
          "Date_Time": "2018-06-21 07:00:00",
          "Duration": "2018-06-21 00:00:00"
         },
         {
          "Date_Time": "2018-06-21 08:00:00",
          "Duration": "2018-06-21 00:00:00"
         },
         {
          "Date_Time": "2018-06-21 09:00:00",
          "Duration": "2018-06-21 00:05:36"
         },
         {
          "Date_Time": "2018-06-21 10:00:00",
          "Duration": "2018-06-21 00:05:38"
         },
         {
          "Date_Time": "2018-06-21 11:00:00",
          "Duration": "2018-06-21 00:00:00"
         },
         {
          "Date_Time": "2018-06-21 12:00:00",
          "Duration": "2018-06-21 00:02:49"
         },
         {
          "Date_Time": "2018-06-21 13:00:00",
          "Duration": "2018-06-21 00:04:26"
         },
         {
          "Date_Time": "2018-06-21 14:00:00",
          "Duration": "2018-06-21 00:00:00"
         },
         {
          "Date_Time": "2018-06-21 15:00:00",
          "Duration": "2018-06-21 00:00:00"
         },
         {
          "Date_Time": "2018-06-21 16:00:00",
          "Duration": "2018-06-21 00:06:32"
         }
        ]
       },
       "encoding": {
        "x": {
         "field": "Date_Time",
         "type": "temporal"
        },
        "y": {
         "field": "Duration",
         "timeUnit": "hoursminutes",
         "type": "temporal"
        }
       },
       "mark": "bar"
      },
      "image/png": "[encoded data removed]",
      "text/plain": [
       "<VegaLite 2 object>\n",
       "\n",
       "If you see this message, it means the renderer has not been properly enabled\n",
       "for the frontend that you are using. For more information, see\n",
       "https://altair-viz.github.io/user_guide/troubleshooting.html\n"
      ]
     },
     "execution_count": 10,
     "metadata": {},
     "output_type": "execute_result"
    }
   ],
   "source": [
    "chart = alt.Chart(tinder).mark_bar().encode(\n",
    "#     x='day(Date):O',\n",
    "    x='Date_Time:T',\n",
    "    y='hoursminutes(Duration)'\n",
    ")\n",
    "\n",
    "chart"
   ]
  },
  {
   "cell_type": "code",
   "execution_count": 6,
   "metadata": {},
   "outputs": [
    {
     "data": {
      "text/html": [
       "<div>\n",
       "<style scoped>\n",
       "    .dataframe tbody tr th:only-of-type {\n",
       "        vertical-align: middle;\n",
       "    }\n",
       "\n",
       "    .dataframe tbody tr th {\n",
       "        vertical-align: top;\n",
       "    }\n",
       "\n",
       "    .dataframe thead th {\n",
       "        text-align: right;\n",
       "    }\n",
       "</style>\n",
       "<table border=\"1\" class=\"dataframe\">\n",
       "  <thead>\n",
       "    <tr style=\"text-align: right;\">\n",
       "      <th></th>\n",
       "      <th>Date_Time</th>\n",
       "      <th>Duration</th>\n",
       "    </tr>\n",
       "  </thead>\n",
       "  <tbody>\n",
       "    <tr>\n",
       "      <th>0</th>\n",
       "      <td>2018-06-14 20:00:00</td>\n",
       "      <td>00:07:33</td>\n",
       "    </tr>\n",
       "    <tr>\n",
       "      <th>1</th>\n",
       "      <td>2018-06-14 21:00:00</td>\n",
       "      <td>00:00:00</td>\n",
       "    </tr>\n",
       "    <tr>\n",
       "      <th>2</th>\n",
       "      <td>2018-06-14 22:00:00</td>\n",
       "      <td>00:00:54</td>\n",
       "    </tr>\n",
       "    <tr>\n",
       "      <th>3</th>\n",
       "      <td>2018-06-14 23:00:00</td>\n",
       "      <td>00:00:00</td>\n",
       "    </tr>\n",
       "    <tr>\n",
       "      <th>4</th>\n",
       "      <td>2018-06-15 00:00:00</td>\n",
       "      <td>00:02:59</td>\n",
       "    </tr>\n",
       "    <tr>\n",
       "      <th>5</th>\n",
       "      <td>2018-06-15 01:00:00</td>\n",
       "      <td>00:16:59</td>\n",
       "    </tr>\n",
       "    <tr>\n",
       "      <th>6</th>\n",
       "      <td>2018-06-15 02:00:00</td>\n",
       "      <td>00:00:00</td>\n",
       "    </tr>\n",
       "    <tr>\n",
       "      <th>7</th>\n",
       "      <td>2018-06-15 03:00:00</td>\n",
       "      <td>00:00:00</td>\n",
       "    </tr>\n",
       "    <tr>\n",
       "      <th>8</th>\n",
       "      <td>2018-06-15 04:00:00</td>\n",
       "      <td>00:00:00</td>\n",
       "    </tr>\n",
       "    <tr>\n",
       "      <th>9</th>\n",
       "      <td>2018-06-15 05:00:00</td>\n",
       "      <td>00:00:00</td>\n",
       "    </tr>\n",
       "    <tr>\n",
       "      <th>10</th>\n",
       "      <td>2018-06-15 06:00:00</td>\n",
       "      <td>00:00:01</td>\n",
       "    </tr>\n",
       "    <tr>\n",
       "      <th>11</th>\n",
       "      <td>2018-06-15 07:00:00</td>\n",
       "      <td>00:00:00</td>\n",
       "    </tr>\n",
       "    <tr>\n",
       "      <th>12</th>\n",
       "      <td>2018-06-15 08:00:00</td>\n",
       "      <td>00:00:00</td>\n",
       "    </tr>\n",
       "    <tr>\n",
       "      <th>13</th>\n",
       "      <td>2018-06-15 09:00:00</td>\n",
       "      <td>00:00:23</td>\n",
       "    </tr>\n",
       "    <tr>\n",
       "      <th>14</th>\n",
       "      <td>2018-06-15 10:00:00</td>\n",
       "      <td>00:00:00</td>\n",
       "    </tr>\n",
       "    <tr>\n",
       "      <th>15</th>\n",
       "      <td>2018-06-15 11:00:00</td>\n",
       "      <td>00:00:00</td>\n",
       "    </tr>\n",
       "    <tr>\n",
       "      <th>16</th>\n",
       "      <td>2018-06-15 12:00:00</td>\n",
       "      <td>00:03:02</td>\n",
       "    </tr>\n",
       "    <tr>\n",
       "      <th>17</th>\n",
       "      <td>2018-06-15 13:00:00</td>\n",
       "      <td>00:02:19</td>\n",
       "    </tr>\n",
       "    <tr>\n",
       "      <th>18</th>\n",
       "      <td>2018-06-15 14:00:00</td>\n",
       "      <td>00:00:12</td>\n",
       "    </tr>\n",
       "    <tr>\n",
       "      <th>19</th>\n",
       "      <td>2018-06-15 15:00:00</td>\n",
       "      <td>00:00:00</td>\n",
       "    </tr>\n",
       "  </tbody>\n",
       "</table>\n",
       "</div>"
      ],
      "text/plain": [
       "             Date_Time Duration\n",
       "0  2018-06-14 20:00:00 00:07:33\n",
       "1  2018-06-14 21:00:00 00:00:00\n",
       "2  2018-06-14 22:00:00 00:00:54\n",
       "3  2018-06-14 23:00:00 00:00:00\n",
       "4  2018-06-15 00:00:00 00:02:59\n",
       "5  2018-06-15 01:00:00 00:16:59\n",
       "6  2018-06-15 02:00:00 00:00:00\n",
       "7  2018-06-15 03:00:00 00:00:00\n",
       "8  2018-06-15 04:00:00 00:00:00\n",
       "9  2018-06-15 05:00:00 00:00:00\n",
       "10 2018-06-15 06:00:00 00:00:01\n",
       "11 2018-06-15 07:00:00 00:00:00\n",
       "12 2018-06-15 08:00:00 00:00:00\n",
       "13 2018-06-15 09:00:00 00:00:23\n",
       "14 2018-06-15 10:00:00 00:00:00\n",
       "15 2018-06-15 11:00:00 00:00:00\n",
       "16 2018-06-15 12:00:00 00:03:02\n",
       "17 2018-06-15 13:00:00 00:02:19\n",
       "18 2018-06-15 14:00:00 00:00:12\n",
       "19 2018-06-15 15:00:00 00:00:00"
      ]
     },
     "execution_count": 6,
     "metadata": {},
     "output_type": "execute_result"
    }
   ],
   "source": [
    "tinder = tinder.resample('H')['Duration'].sum().reset_index()\n",
    "tinder.head(20)"
   ]
  },
  {
   "cell_type": "code",
   "execution_count": 8,
   "metadata": {},
   "outputs": [],
   "source": [
    "tinder.Duration = pd.to_datetime(tinder['Date_Time'].dt.date.astype(str)+' '+tinder['Duration'].dt.to_pytimedelta().astype(str))"
   ]
  },
  {
   "cell_type": "code",
   "execution_count": 9,
   "metadata": {},
   "outputs": [
    {
     "data": {
      "text/html": [
       "<div>\n",
       "<style scoped>\n",
       "    .dataframe tbody tr th:only-of-type {\n",
       "        vertical-align: middle;\n",
       "    }\n",
       "\n",
       "    .dataframe tbody tr th {\n",
       "        vertical-align: top;\n",
       "    }\n",
       "\n",
       "    .dataframe thead th {\n",
       "        text-align: right;\n",
       "    }\n",
       "</style>\n",
       "<table border=\"1\" class=\"dataframe\">\n",
       "  <thead>\n",
       "    <tr style=\"text-align: right;\">\n",
       "      <th></th>\n",
       "      <th>Date_Time</th>\n",
       "      <th>Duration</th>\n",
       "    </tr>\n",
       "  </thead>\n",
       "  <tbody>\n",
       "    <tr>\n",
       "      <th>0</th>\n",
       "      <td>2018-06-14 20:00:00</td>\n",
       "      <td>2018-06-14 00:07:33</td>\n",
       "    </tr>\n",
       "    <tr>\n",
       "      <th>1</th>\n",
       "      <td>2018-06-14 21:00:00</td>\n",
       "      <td>2018-06-14 00:00:00</td>\n",
       "    </tr>\n",
       "    <tr>\n",
       "      <th>2</th>\n",
       "      <td>2018-06-14 22:00:00</td>\n",
       "      <td>2018-06-14 00:00:54</td>\n",
       "    </tr>\n",
       "    <tr>\n",
       "      <th>3</th>\n",
       "      <td>2018-06-14 23:00:00</td>\n",
       "      <td>2018-06-14 00:00:00</td>\n",
       "    </tr>\n",
       "    <tr>\n",
       "      <th>4</th>\n",
       "      <td>2018-06-15 00:00:00</td>\n",
       "      <td>2018-06-15 00:02:59</td>\n",
       "    </tr>\n",
       "  </tbody>\n",
       "</table>\n",
       "</div>"
      ],
      "text/plain": [
       "            Date_Time            Duration\n",
       "0 2018-06-14 20:00:00 2018-06-14 00:07:33\n",
       "1 2018-06-14 21:00:00 2018-06-14 00:00:00\n",
       "2 2018-06-14 22:00:00 2018-06-14 00:00:54\n",
       "3 2018-06-14 23:00:00 2018-06-14 00:00:00\n",
       "4 2018-06-15 00:00:00 2018-06-15 00:02:59"
      ]
     },
     "execution_count": 9,
     "metadata": {},
     "output_type": "execute_result"
    }
   ],
   "source": [
    "tinder.head()"
   ]
  },
  {
   "cell_type": "code",
   "execution_count": null,
   "metadata": {},
   "outputs": [],
   "source": [
    "%matplotlib inline\n",
    "# import seaborn; seaborn.set()"
   ]
  },
  {
   "cell_type": "code",
   "execution_count": null,
   "metadata": {},
   "outputs": [],
   "source": [
    "# tinder[:20].plot(x='Date_Time', y='Duration', kind='bar')\n",
    "hour.plot(x='Date_Time', y='Duration', kind='bar')"
   ]
  },
  {
   "cell_type": "code",
   "execution_count": null,
   "metadata": {},
   "outputs": [],
   "source": [
    "type(tinder)"
   ]
  }
 ],
 "metadata": {
  "kernelspec": {
   "display_name": "apptracker",
   "language": "python",
   "name": "apptracker"
  },
  "language_info": {
   "codemirror_mode": {
    "name": "ipython",
    "version": 3
   },
   "file_extension": ".py",
   "mimetype": "text/x-python",
   "name": "python",
   "nbconvert_exporter": "python",
   "pygments_lexer": "ipython3",
   "version": "3.6.1"
  }
 },
 "nbformat": 4,
 "nbformat_minor": 2
}
