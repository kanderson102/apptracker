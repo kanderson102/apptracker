{
 "cells": [
  {
   "cell_type": "code",
   "execution_count": 5,
   "metadata": {},
   "outputs": [],
   "source": [
    "import altair as alt\n",
    "import pandas as pd\n",
    "\n",
    "\n",
    "data_path = 'data/AUM_V4_Activity_2018-06-21_17-16-27.csv'"
   ]
  },
  {
   "cell_type": "code",
   "execution_count": 9,
   "metadata": {},
   "outputs": [
    {
     "data": {
      "text/html": [
       "<div>\n",
       "<style scoped>\n",
       "    .dataframe tbody tr th:only-of-type {\n",
       "        vertical-align: middle;\n",
       "    }\n",
       "\n",
       "    .dataframe tbody tr th {\n",
       "        vertical-align: top;\n",
       "    }\n",
       "\n",
       "    .dataframe thead th {\n",
       "        text-align: right;\n",
       "    }\n",
       "</style>\n",
       "<table border=\"1\" class=\"dataframe\">\n",
       "  <thead>\n",
       "    <tr style=\"text-align: right;\">\n",
       "      <th></th>\n",
       "      <th>App name</th>\n",
       "      <th>Duration</th>\n",
       "    </tr>\n",
       "    <tr>\n",
       "      <th>Date_Time</th>\n",
       "      <th></th>\n",
       "      <th></th>\n",
       "    </tr>\n",
       "  </thead>\n",
       "  <tbody>\n",
       "    <tr>\n",
       "      <th>6/21/18 3:06:30 PM</th>\n",
       "      <td>OkCupid</td>\n",
       "      <td>0:14:11</td>\n",
       "    </tr>\n",
       "    <tr>\n",
       "      <th>6/20/18 10:53:57 PM</th>\n",
       "      <td>Maps</td>\n",
       "      <td>0:00:02</td>\n",
       "    </tr>\n",
       "    <tr>\n",
       "      <th>6/21/18 12:36:21 PM</th>\n",
       "      <td>Huawei Home</td>\n",
       "      <td>0:00:05</td>\n",
       "    </tr>\n",
       "    <tr>\n",
       "      <th>6/19/18 9:13:16 AM</th>\n",
       "      <td>Screen off (locked)</td>\n",
       "      <td>0:06:25</td>\n",
       "    </tr>\n",
       "    <tr>\n",
       "      <th>6/14/18 5:28:05 PM</th>\n",
       "      <td>Screen on (unlocked)</td>\n",
       "      <td>0:00:01</td>\n",
       "    </tr>\n",
       "    <tr>\n",
       "      <th>6/14/18 9:16:10 AM</th>\n",
       "      <td>Screen on (unlocked)</td>\n",
       "      <td>0:00:00</td>\n",
       "    </tr>\n",
       "    <tr>\n",
       "      <th>6/15/18 10:29:49 AM</th>\n",
       "      <td>Screen on (locked)</td>\n",
       "      <td>0:00:06</td>\n",
       "    </tr>\n",
       "    <tr>\n",
       "      <th>6/20/18 12:54:12 PM</th>\n",
       "      <td>Screen off (locked)</td>\n",
       "      <td>0:01:33</td>\n",
       "    </tr>\n",
       "    <tr>\n",
       "      <th>6/18/18 11:38:05 AM</th>\n",
       "      <td>Chrome</td>\n",
       "      <td>0:00:01</td>\n",
       "    </tr>\n",
       "    <tr>\n",
       "      <th>6/17/18 1:28:34 PM</th>\n",
       "      <td>Huawei Home</td>\n",
       "      <td>0:00:03</td>\n",
       "    </tr>\n",
       "  </tbody>\n",
       "</table>\n",
       "</div>"
      ],
      "text/plain": [
       "                                 App name Duration\n",
       "Date_Time                                         \n",
       "6/21/18 3:06:30 PM                OkCupid  0:14:11\n",
       "6/20/18 10:53:57 PM                  Maps  0:00:02\n",
       "6/21/18 12:36:21 PM           Huawei Home  0:00:05\n",
       "6/19/18 9:13:16 AM    Screen off (locked)  0:06:25\n",
       "6/14/18 5:28:05 PM   Screen on (unlocked)  0:00:01\n",
       "6/14/18 9:16:10 AM   Screen on (unlocked)  0:00:00\n",
       "6/15/18 10:29:49 AM    Screen on (locked)  0:00:06\n",
       "6/20/18 12:54:12 PM   Screen off (locked)  0:01:33\n",
       "6/18/18 11:38:05 AM                Chrome  0:00:01\n",
       "6/17/18 1:28:34 PM            Huawei Home  0:00:03"
      ]
     },
     "execution_count": 9,
     "metadata": {},
     "output_type": "execute_result"
    }
   ],
   "source": [
    "df = pd.read_csv(data_path, parse_dates=[['Date', 'Time']])\n",
    "df = df[:-3]\n",
    "df = df.set_index('Date_Time')\n",
    "# index = pd.DatetimeIndex(df.Date_Time)\n",
    "# df = pd.Series(df['App name', 'Duration'], index=index)\n",
    "df.head(10)"
   ]
  },
  {
   "cell_type": "code",
   "execution_count": 12,
   "metadata": {},
   "outputs": [
    {
     "data": {
      "text/plain": [
       "App name    object\n",
       "Duration    object\n",
       "dtype: object"
      ]
     },
     "execution_count": 12,
     "metadata": {},
     "output_type": "execute_result"
    }
   ],
   "source": [
    "df.dtypes"
   ]
  },
  {
   "cell_type": "markdown",
   "metadata": {},
   "source": [
    "## Convert Duration to TimeDelta"
   ]
  },
  {
   "cell_type": "code",
   "execution_count": 16,
   "metadata": {},
   "outputs": [],
   "source": [
    "df['Duration'] = pd.to_timedelta(df.Duration)"
   ]
  },
  {
   "cell_type": "code",
   "execution_count": null,
   "metadata": {},
   "outputs": [],
   "source": []
  },
  {
   "cell_type": "code",
   "execution_count": null,
   "metadata": {},
   "outputs": [],
   "source": [
    "tinder = df['App name'] == \"Tinder\""
   ]
  }
 ],
 "metadata": {
  "kernelspec": {
   "display_name": "apptracker",
   "language": "python",
   "name": "apptracker"
  },
  "language_info": {
   "codemirror_mode": {
    "name": "ipython",
    "version": 3
   },
   "file_extension": ".py",
   "mimetype": "text/x-python",
   "name": "python",
   "nbconvert_exporter": "python",
   "pygments_lexer": "ipython3",
   "version": "3.6.1"
  }
 },
 "nbformat": 4,
 "nbformat_minor": 2
}
